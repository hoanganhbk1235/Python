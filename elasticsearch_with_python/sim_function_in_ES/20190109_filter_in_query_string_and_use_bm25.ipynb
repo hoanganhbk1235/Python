{
 "cells": [
  {
   "cell_type": "code",
   "execution_count": null,
   "metadata": {},
   "outputs": [],
   "source": [
    "import numpy as np\n",
    "import pandas as pd\n",
    "from elasticsearch import Elasticsearch, helpers\n",
    "import json\n",
    "import time"
   ]
  },
  {
   "cell_type": "code",
   "execution_count": null,
   "metadata": {},
   "outputs": [],
   "source": [
    "data = json.load(open('.../data_formular/formular_norm.txt'))"
   ]
  },
  {
   "cell_type": "code",
   "execution_count": null,
   "metadata": {},
   "outputs": [],
   "source": [
    "data"
   ]
  },
  {
   "cell_type": "code",
   "execution_count": null,
   "metadata": {},
   "outputs": [],
   "source": [
    "mathematical_symbols = json.load(open('.../data_formular/mathematical_symbols_latex.txt'))"
   ]
  },
  {
   "cell_type": "code",
   "execution_count": null,
   "metadata": {},
   "outputs": [],
   "source": [
    "print(len(mathematical_symbols))\n",
    "print(mathematical_symbols)"
   ]
  },
  {
   "cell_type": "code",
   "execution_count": null,
   "metadata": {},
   "outputs": [],
   "source": [
    "es = Elasticsearch([{'host': 'localhost', 'port': 9200}], timeout = 300)"
   ]
  },
  {
   "cell_type": "code",
   "execution_count": null,
   "metadata": {},
   "outputs": [],
   "source": [
    "request_body = {\n",
    "    \"settings\": {\n",
    "        \"similarity\": {\n",
    "            \"my_bm25\": {\n",
    "                \"type\": \"BM25\",\n",
    "                \"b\": 0.75,\n",
    "                \"k\": 1.25\n",
    "            }\n",
    "        }\n",
    "    },\n",
    "    \"mappings\": {\n",
    "        \"example_bm25\": {\n",
    "            \"properties\": {\n",
    "                \"stt\": {\"type\": \"long\", \"similarity\": \"my_bm25\"},\n",
    "                \"formular\": {\"type\": \"text\", \"similarity\": \"my_bm25\"}\n",
    "            }\n",
    "        }\n",
    "    }\n",
    "}"
   ]
  },
  {
   "cell_type": "code",
   "execution_count": null,
   "metadata": {},
   "outputs": [],
   "source": [
    "# create the index\n",
    "es.indices.create(index = \"idx_formular_02\", body = request_body)"
   ]
  },
  {
   "cell_type": "code",
   "execution_count": null,
   "metadata": {},
   "outputs": [],
   "source": [
    "# prepare data\n",
    "bulk_data = []\n",
    "\n",
    "for i,j in zip(data, range(1, len(data)+1)):\n",
    "    data_dict = {\n",
    "        \"_index\": \"idx_formular_02\",\n",
    "        \"_type\" : \"example_bm25\",\n",
    "        \"_id\": j,\n",
    "        \"_source\": {\n",
    "            \"stt\": j,\n",
    "            \"formular\": i\n",
    "        }\n",
    "    }\n",
    "    bulk_data.append(data_dict)"
   ]
  },
  {
   "cell_type": "code",
   "execution_count": null,
   "metadata": {},
   "outputs": [],
   "source": [
    "bulk_data"
   ]
  },
  {
   "cell_type": "code",
   "execution_count": null,
   "metadata": {},
   "outputs": [],
   "source": [
    "# insert data\n",
    "helpers.bulk(es, bulk_data)"
   ]
  },
  {
   "cell_type": "code",
   "execution_count": null,
   "metadata": {},
   "outputs": [],
   "source": [
    "es.indices.refresh(index = \"idx_formular_02\")"
   ]
  },
  {
   "cell_type": "code",
   "execution_count": null,
   "metadata": {},
   "outputs": [],
   "source": [
    "# get data\n",
    "es.get(index = \"idx_formular_02\", doc_type = \"example_bm25\", id = 5)"
   ]
  },
  {
   "cell_type": "code",
   "execution_count": null,
   "metadata": {},
   "outputs": [],
   "source": [
    "# search data\n",
    "a = es.search(index = 'idx_formular_02', doc_type = \"example_bm25\", body = {\n",
    "    \"query\": {\n",
    "        \"match\": {\n",
    "            \"formular\": \"\\\\sqrt { 2 ^ { 2 } .3 ^ { 4 } }\"\n",
    "        }\n",
    "    }\n",
    "})\n",
    "for i in a['hits']['hits']:\n",
    "    print(\"id : {}, score: {}, formular: {}\".format(i[\"_id\"], i[\"_score\"], i[\"_source\"][\"formular\"]))"
   ]
  },
  {
   "cell_type": "code",
   "execution_count": null,
   "metadata": {},
   "outputs": [],
   "source": [
    "a = es.search(index = 'idx_formular_02', doc_type = \"example_bm25\", body = {\n",
    "    \"query\": {\n",
    "        \"match\": {\n",
    "            \"formular\": \"\\\\sqrt { 2 ^ { 4 } .3 }\"\n",
    "        }\n",
    "    }\n",
    "})\n",
    "for i in a['hits']['hits']:\n",
    "    print(\"id : {}, score: {}, formular: {}\".format(i[\"_id\"], i[\"_score\"], i[\"_source\"][\"formular\"]))"
   ]
  },
  {
   "cell_type": "code",
   "execution_count": null,
   "metadata": {},
   "outputs": [],
   "source": [
    "query_string = \"\\\\frac { 3 } { 2 + a }\"\n",
    "a = es.search(index = 'idx_formular_02', doc_type = \"example_bm25\", body = {\n",
    "    \"query\": {\n",
    "        \"match\": {\n",
    "            \"formular\": query_string\n",
    "        }\n",
    "    }\n",
    "})\n",
    "for i in a['hits']['hits']:\n",
    "    print(\"id : {}, score: {}, formular: {}\".format(i[\"_id\"], i[\"_score\"], i[\"_source\"][\"formular\"]))"
   ]
  },
  {
   "cell_type": "code",
   "execution_count": null,
   "metadata": {
    "scrolled": true
   },
   "outputs": [],
   "source": [
    "for i in query_string.split():\n",
    "    if '\\\\' in i:\n",
    "        print(i)\n",
    "    else:\n",
    "        print(0)"
   ]
  },
  {
   "cell_type": "code",
   "execution_count": null,
   "metadata": {},
   "outputs": [],
   "source": [
    "query_string = \"\\\\frac { 3 } { 2 + a }\"\n",
    "a = es.search(index = 'idx_formular_02', doc_type = \"example_bm25\", body = {\n",
    "    \"query\": {\n",
    "        \"bool\": {\n",
    "            \"must\": { \"match\": {\n",
    "                \"formular\": query_string\n",
    "            }}\n",
    "        }\n",
    "    }\n",
    "})\n",
    "for i in a['hits']['hits']:\n",
    "    print(\"id : {}, score: {}, formular: {}\".format(i[\"_id\"], i[\"_score\"], i[\"_source\"][\"formular\"]))"
   ]
  },
  {
   "cell_type": "code",
   "execution_count": null,
   "metadata": {},
   "outputs": [],
   "source": [
    "# create a new list, math_symbol_in_query, the mathematical symbols appear in query string and mathematical symbols\n",
    "# we use the mathematical symbols this is preference term in the search documents\n",
    "math_symbols_in_query = []\n",
    "for i in query_string.split():\n",
    "    if i in mathematical_symbols:\n",
    "        math_symbols_in_query.append(i)\n",
    "print(math_symbols_in_query)\n",
    "# create a new list, math_symbols_in_query, the mathematical symbols not appear in query string\n",
    "math_symbols_not_in_query = list(set(mathematical_symbols)^set(math_symbols_in_query))\n",
    "print(len(math_symbols_not_in_query))\n",
    "print(math_symbols_not_in_query)"
   ]
  },
  {
   "cell_type": "code",
   "execution_count": null,
   "metadata": {},
   "outputs": [],
   "source": [
    "if \"\\\\sqrt\" in math_symbols_not_in_query:\n",
    "    print(1)"
   ]
  },
  {
   "cell_type": "code",
   "execution_count": null,
   "metadata": {},
   "outputs": [],
   "source": [
    "\" \".join(math_symbols_not_in_query)"
   ]
  },
  {
   "cell_type": "code",
   "execution_count": null,
   "metadata": {},
   "outputs": [],
   "source": [
    "query_string = \"\\\\frac { 3 } { 2 + a }\"\n",
    "a = es.search(index = 'idx_formular_02', doc_type = \"example_bm25\", body = {\n",
    "    \"query\": {\n",
    "        \"bool\": {\n",
    "            \"must\": { \"match\": {\n",
    "                \"formular\": query_string\n",
    "            }},\n",
    "            \"must_not\":{\n",
    "                \"match\": {\n",
    "                    \"about\": \" \".join(math_symbols_not_in_query)\n",
    "                }\n",
    "            }\n",
    "        }\n",
    "    }\n",
    "})\n",
    "for i in a['hits']['hits']:\n",
    "    print(\"id : {}, score: {}, formular: {}\".format(i[\"_id\"], i[\"_score\"], i[\"_source\"][\"formular\"]))"
   ]
  },
  {
   "cell_type": "code",
   "execution_count": null,
   "metadata": {},
   "outputs": [],
   "source": [
    "\" \".join(math_symbols_in_query)"
   ]
  },
  {
   "cell_type": "code",
   "execution_count": null,
   "metadata": {},
   "outputs": [],
   "source": [
    "query_string = \"\\\\frac { 3 } { 2 + a }\"\n",
    "a = es.search(index = 'idx_formular_02', doc_type = \"example_bm25\", body = {\n",
    "    \"query\": {\n",
    "        \"bool\": {\n",
    "            \"must\": { \"match\": {\n",
    "                \"formular\": query_string\n",
    "            }},\n",
    "            \"filter\": {\n",
    "                \"term\": {\n",
    "                    \"formular\": \" \".join(math_symbols_in_query)\n",
    "                }\n",
    "            },\n",
    "            \"must_not\":{\n",
    "                \"match\": {\n",
    "                    \"about\": \" \".join(math_symbols_not_in_query)\n",
    "                }\n",
    "            }\n",
    "        }\n",
    "    }\n",
    "})\n",
    "for i in a['hits']['hits']:\n",
    "    print(\"id : {}, score: {}, formular: {}\".format(i[\"_id\"], i[\"_score\"], i[\"_source\"][\"formular\"]))"
   ]
  },
  {
   "cell_type": "code",
   "execution_count": null,
   "metadata": {},
   "outputs": [],
   "source": [
    "a"
   ]
  },
  {
   "cell_type": "code",
   "execution_count": null,
   "metadata": {},
   "outputs": [],
   "source": [
    "query_string = \"\\\\frac { 3 } { 2 + a }\"\n",
    "a = es.search(index = 'idx_formular_02', doc_type = \"example_bm25\", body = {\n",
    "    \"query\": {\n",
    "        \"bool\": {\n",
    "            \"must\": { \"match\": {\n",
    "                \"formular\": query_string\n",
    "            }},\n",
    "            \"filter\": {\n",
    "                \"term\": {\n",
    "                    \"formular\": \"\\\\frac\"\n",
    "                }\n",
    "            }\n",
    "        }\n",
    "    }\n",
    "})\n",
    "for i in a['hits']['hits']:\n",
    "    print(\"id : {}, score: {}, formular: {}\".format(i[\"_id\"], i[\"_score\"], i[\"_source\"][\"formular\"]))"
   ]
  },
  {
   "cell_type": "code",
   "execution_count": null,
   "metadata": {},
   "outputs": [],
   "source": [
    "a"
   ]
  },
  {
   "cell_type": "code",
   "execution_count": null,
   "metadata": {},
   "outputs": [],
   "source": []
  },
  {
   "cell_type": "code",
   "execution_count": null,
   "metadata": {},
   "outputs": [],
   "source": []
  },
  {
   "cell_type": "code",
   "execution_count": null,
   "metadata": {},
   "outputs": [],
   "source": []
  },
  {
   "cell_type": "code",
   "execution_count": null,
   "metadata": {},
   "outputs": [],
   "source": [
    "# delete the index\n",
    "es.indices.delete(index = \"idx_formular_02\")"
   ]
  },
  {
   "cell_type": "code",
   "execution_count": null,
   "metadata": {},
   "outputs": [],
   "source": []
  }
 ],
 "metadata": {
  "kernelspec": {
   "display_name": "Python 3",
   "language": "python",
   "name": "python3"
  },
  "language_info": {
   "codemirror_mode": {
    "name": "ipython",
    "version": 3
   },
   "file_extension": ".py",
   "mimetype": "text/x-python",
   "name": "python",
   "nbconvert_exporter": "python",
   "pygments_lexer": "ipython3",
   "version": "3.6.4"
  }
 },
 "nbformat": 4,
 "nbformat_minor": 2
}
