{
 "cells": [
  {
   "cell_type": "code",
   "execution_count": null,
   "metadata": {},
   "outputs": [],
   "source": [
    "from elasticsearch import Elasticsearch, helpers\n",
    "import pandas as pd\n",
    "import numpy as np\n",
    "import json\n",
    "import time"
   ]
  },
  {
   "cell_type": "code",
   "execution_count": null,
   "metadata": {},
   "outputs": [],
   "source": [
    "mathematical_symbols_latex_1 = [ \"\\\\Delta\", \"\\\\Omega\", \"\\\\Phi\", \"\\\\Rightarrow\", \"\\\\alpha\", \"\\\\angle\", \"\\\\langle\", \"\\\\rangle\", \"\\\\approx\",\n",
    "\"\\\\overline\", \"\\\\begin{array}\", \"\\\\beta\", \"\\\\bot\", \"\\\\cdot\", \"\\\\cdots\", \"\\\\circ\", \"\\\\cup\", \"\\\\cap\", \"\\\\delta\", \"\\\\div\", \"\\\\dots\", \"\\\\ell\",\n",
    "\"\\\\eta\", \"\\\\end{array}\", \"\\\\epsilon\", \"\\\\equiv\", \"\\\\exists\", \"\\\\kappa\", \"\\\\forall\", \"\\\\frac\", \"\\\\gamma\", \"\\\\Gamma\", \"\\\\geq\", \"\\\\hat\",\n",
    "\"\\\\hline\", \"\\\\in\"]\n",
    "mathematical_symbols_latex_2 = [\"\\\\infty\", \"\\\\int\", \"\\\\lambda\", \"\\\\Lambda\", \"\\\\left(\", \"\\\\left.\", \"\\\\left[\", \"\\\\left\\{\", \"\\\\left|\", \"\\\\leq\", \"\\\\longdiv\",\n",
    "\"\\\\text\", \"\\\\mu\", \"\\\\nabla\", \"\\\\neq\", \"\\\\notin\", \"\\\\oint\", \"\\\\operatorname\", \"\\\\omega\", \"\\\\otimes\", \"\\\\oplus\", \"\\\\partial\", \"\\\\phi\", \"\\\\pi\",\n",
    "\"\\\\pm\", \"\\\\mp\", \"\\\\prime\", \"\\\\prod\", \"\\\\psi\", \"\\\\Psi\", \"\\\\qquad\", \"\\\\quad\", \"\\\\rho\", \"\\\\right)\", \"\\\\right.\", \"\\\\right\\}\", \"\\\\right]\", \"\\\\rightarrow\"]\n",
    "mathematical_symbols_latex_3 = [\"\\\\right|\", \"\\\\sigma\", \"\\\\sim\", \"\\\\sqrt\", \"\\\\square\", \"\\\\sum\", \"\\\\subset\", \"\\\\supset\", \"\\\\subseteq\", \"\\\\supseteq\", \"\\\\tau\", \"\\\\theta\", \"\\\\Theta\",\n",
    "\"\\\\times\", \"\\\\tilde\", \"\\\\varphi\", \"\\\\vec\", \"\\\\wedge\", \"\\\\vee\", \"\\\\xi\", \"\\\\zeta\", \"\\\\leftrightarrow\", \"\\\\Leftrightarrow\", \"\\\\dot\", \"\\\\vdots\",]\n",
    "mathematical_symbols_latex_4 = [\"\\\\bar\", \"\\\\dagger\", \"\\\\perp\", \"\\\\cong\", \"\\\\star\", \"\\\\lfloor\", \"\\\\rfloor\", \"\\\\propto\", \"\\\\lceil\", \"\\\\rceil\", \"\\\\therefore\", \"\\\\because\",\n",
    "\"\\\\chi\", \"\\\\simeq\", \"\\\\emptyset\", \"\\\\parallel\", \"\\\\Xi\", \"\\\\mathcal\"]\n",
    "mathematical_symbols_latex_5 = [\"\\\\\", \"\\\\%\", \"$\", \"!\", \"&\", \"(\", \")\", \"\\*\", \"+\", \"-\", \".\", \"/\", \":\", \"<\", \"=\",\"–\",\"\\°\",\"≈\",\n",
    "                                \">\", \"?\", \"[\", \"\\{\", \"\\}\", \"]\", \"^\", \"_\", \"{\", \"|\", \"}\", \"~\", \"'\", \"\\\"\", \"\\\\|\"]\n",
    "mathematical_symbols_latex_6 = [\"\\\\sin\", \"\\\\arcsin\", \"\\\\sinh\", \"\\\\cos\", \"\\\\cosh\", \"\\\\arccos\", \"\\\\tan\", \"\\\\arctan\", \"\\\\coth\", \"\\\\tanh\",\n",
    "                               \"\\\\csc\", \"\\\\sec\"]"
   ]
  },
  {
   "cell_type": "code",
   "execution_count": null,
   "metadata": {
    "scrolled": true
   },
   "outputs": [],
   "source": [
    "print(mathematical_symbols_latex_5)\n",
    "print(mathematical_symbols_latex_6)"
   ]
  },
  {
   "cell_type": "code",
   "execution_count": null,
   "metadata": {},
   "outputs": [],
   "source": [
    "print( len(mathematical_symbols_latex_1))\n",
    "print( len(mathematical_symbols_latex_2))\n",
    "print( len(mathematical_symbols_latex_3))\n",
    "print( len(mathematical_symbols_latex_4))\n",
    "print( len(mathematical_symbols_latex_5))\n",
    "print( len(mathematical_symbols_latex_6))"
   ]
  },
  {
   "cell_type": "code",
   "execution_count": null,
   "metadata": {},
   "outputs": [],
   "source": [
    "len(mathematical_symbols_latex_1 + mathematical_symbols_latex_2 + mathematical_symbols_latex_3 + mathematical_symbols_latex_4 + mathematical_symbols_latex_5 + mathematical_symbols_latex_6)"
   ]
  },
  {
   "cell_type": "code",
   "execution_count": null,
   "metadata": {},
   "outputs": [],
   "source": [
    "# concat the lists\n",
    "mathematical_symbols_full = mathematical_symbols_latex_1 + mathematical_symbols_latex_2 + mathematical_symbols_latex_3 + mathematical_symbols_latex_4 + mathematical_symbols_latex_5 + mathematical_symbols_latex_6"
   ]
  },
  {
   "cell_type": "code",
   "execution_count": null,
   "metadata": {},
   "outputs": [],
   "source": [
    "print(mathematical_symbols_full)"
   ]
  },
  {
   "cell_type": "code",
   "execution_count": null,
   "metadata": {},
   "outputs": [],
   "source": [
    "with open('.../data_formular/mathematical_symbols_full.txt', 'w') as f:\n",
    "    json.dump(mathematical_symbols_full, f)"
   ]
  },
  {
   "cell_type": "code",
   "execution_count": null,
   "metadata": {},
   "outputs": [],
   "source": [
    "print(mathematical_symbols_latex_5[5].encode('\\u2248', errors='replace').decode('\\u2248'))"
   ]
  },
  {
   "cell_type": "code",
   "execution_count": null,
   "metadata": {},
   "outputs": [],
   "source": [
    "data = json.load(open('.../data_formular/mathematical_symbols_full.txt'))"
   ]
  },
  {
   "cell_type": "code",
   "execution_count": null,
   "metadata": {},
   "outputs": [],
   "source": [
    "len(data)"
   ]
  },
  {
   "cell_type": "code",
   "execution_count": null,
   "metadata": {},
   "outputs": [],
   "source": [
    "mathematical_symbols_latex = mathematical_symbols_latex_1 + mathematical_symbols_latex_2 + mathematical_symbols_latex_3 + mathematical_symbols_latex_4 + mathematical_symbols_latex_6"
   ]
  },
  {
   "cell_type": "code",
   "execution_count": null,
   "metadata": {},
   "outputs": [],
   "source": [
    "len(mathematical_symbols_latex)"
   ]
  },
  {
   "cell_type": "code",
   "execution_count": null,
   "metadata": {},
   "outputs": [],
   "source": [
    "with open('.../data_formular/mathematical_symbols_latex.txt', 'w') as f:\n",
    "    json.dump(mathematical_symbols_latex, f)"
   ]
  },
  {
   "cell_type": "code",
   "execution_count": null,
   "metadata": {},
   "outputs": [],
   "source": [
    "data = json.load(open('.../data_formular/mathematical_symbols_latex.txt'))"
   ]
  },
  {
   "cell_type": "code",
   "execution_count": null,
   "metadata": {},
   "outputs": [],
   "source": [
    "len(data)"
   ]
  },
  {
   "cell_type": "code",
   "execution_count": null,
   "metadata": {},
   "outputs": [],
   "source": []
  }
 ],
 "metadata": {
  "kernelspec": {
   "display_name": "Python 3",
   "language": "python",
   "name": "python3"
  },
  "language_info": {
   "codemirror_mode": {
    "name": "ipython",
    "version": 3
   },
   "file_extension": ".py",
   "mimetype": "text/x-python",
   "name": "python",
   "nbconvert_exporter": "python",
   "pygments_lexer": "ipython3",
   "version": "3.6.4"
  }
 },
 "nbformat": 4,
 "nbformat_minor": 2
}
