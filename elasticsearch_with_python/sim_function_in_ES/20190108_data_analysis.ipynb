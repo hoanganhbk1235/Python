{
 "cells": [
  {
   "cell_type": "code",
   "execution_count": null,
   "metadata": {},
   "outputs": [],
   "source": [
    "from elasticsearch import Elasticsearch, helpers\n",
    "import json\n",
    "import time\n",
    "import pandas as pd\n",
    "import numpy as np"
   ]
  },
  {
   "cell_type": "code",
   "execution_count": null,
   "metadata": {},
   "outputs": [],
   "source": [
    "# load data\n",
    "mathematical_symbols = json.load(open('.../data_formular/mathematical_symbols_full.txt'))\n",
    "data = json.load(open('.../data_formular/formular.txt'))"
   ]
  },
  {
   "cell_type": "code",
   "execution_count": null,
   "metadata": {},
   "outputs": [],
   "source": [
    "mathematical_symbols[:4]"
   ]
  },
  {
   "cell_type": "code",
   "execution_count": null,
   "metadata": {},
   "outputs": [],
   "source": [
    "print(data[:10])"
   ]
  },
  {
   "cell_type": "markdown",
   "metadata": {},
   "source": [
    "# test"
   ]
  },
  {
   "cell_type": "code",
   "execution_count": null,
   "metadata": {},
   "outputs": [],
   "source": [
    "for i in 'a \\\\sqrt 27 ash'.split():\n",
    "    print(i)\n",
    "    if i in mathematical_symbols:\n",
    "        print(1)\n",
    "        break\n",
    "    else:\n",
    "        print(0)"
   ]
  },
  {
   "cell_type": "code",
   "execution_count": null,
   "metadata": {
    "scrolled": true
   },
   "outputs": [],
   "source": [
    "data_test = [' a \\\\sqrt { 2 x + 7 }', '\\\\sqrt { \\\\frac { 1 } { - 1 + x } }', '\\\\sqrt { - 3 x + 4 }', 'A B A', \n",
    "             '\\\\sqrt { 0,09.64 }', 'a b c', 'a + b', 'a < 0']\n",
    "dat_result = []\n",
    "\n",
    "for i in data_test:\n",
    "    print(\"i :\", i)\n",
    "    for j in i.split():\n",
    "        #print(j)\n",
    "        if j in mathematical_symbols:\n",
    "            print(1)\n",
    "            dat_result.append(i)\n",
    "            break\n",
    "    print('---------')\n",
    "print(dat_result)\n",
    "print(len(dat_result))\n",
    "print(data_test)\n",
    "print(len(data_test))"
   ]
  },
  {
   "cell_type": "code",
   "execution_count": null,
   "metadata": {},
   "outputs": [],
   "source": [
    "# find the common elements in two lists\n",
    "list(set(data_test) & set(dat_result))"
   ]
  },
  {
   "cell_type": "code",
   "execution_count": null,
   "metadata": {},
   "outputs": [],
   "source": [
    "# find the appearing elements in two lists\n",
    "list(set(data_test) & set(dat_result))"
   ]
  },
  {
   "cell_type": "code",
   "execution_count": null,
   "metadata": {},
   "outputs": [],
   "source": [
    "# remove the common elements in two lists\n",
    "# way 1\n",
    "list(set(data_test) ^ set(dat_result))"
   ]
  },
  {
   "cell_type": "code",
   "execution_count": null,
   "metadata": {},
   "outputs": [],
   "source": [
    "# way 2\n",
    "list(set(data_test).difference(dat_result))"
   ]
  },
  {
   "cell_type": "code",
   "execution_count": null,
   "metadata": {},
   "outputs": [],
   "source": [
    "if \"°\" in 'sin 23°36’ ≈ 0,4;'.split():\n",
    "    print(1)\n",
    "else:\n",
    "    print(0)"
   ]
  },
  {
   "cell_type": "code",
   "execution_count": null,
   "metadata": {},
   "outputs": [],
   "source": [
    "if \"°\" in 'sin 23°36’ ≈ 0,4;':\n",
    "    print(1)\n",
    "else:\n",
    "    print(0)"
   ]
  },
  {
   "cell_type": "code",
   "execution_count": null,
   "metadata": {},
   "outputs": [],
   "source": []
  },
  {
   "cell_type": "markdown",
   "metadata": {},
   "source": [
    "# the filter the elements in data is not formular"
   ]
  },
  {
   "cell_type": "code",
   "execution_count": null,
   "metadata": {},
   "outputs": [],
   "source": [
    "print(len(data))\n",
    "print(data[:5])\n"
   ]
  },
  {
   "cell_type": "code",
   "execution_count": null,
   "metadata": {},
   "outputs": [],
   "source": [
    "data_result = []\n",
    "data_pass_1 = []\n",
    "for i in data:\n",
    "    print(len(i.split()))\n",
    "    \n",
    "    if(len(i.split()) > 1):\n",
    "        \n",
    "        print('pass 1')\n",
    "        data_pass_1.append(i)\n",
    "        \n",
    "        for j in i.split():\n",
    "            if j in mathematical_symbols:\n",
    "                print('pass 2')\n",
    "                data_result.append(i)\n",
    "                break\n",
    "print(data_pass_1[:4])\n",
    "print(len(data_pass_1))\n",
    "print(data_result[:4])\n",
    "print(len(data_result))"
   ]
  },
  {
   "cell_type": "code",
   "execution_count": null,
   "metadata": {},
   "outputs": [],
   "source": [
    "data_noise = list(set(data_pass_1)^set(data_result))"
   ]
  },
  {
   "cell_type": "code",
   "execution_count": null,
   "metadata": {},
   "outputs": [],
   "source": [
    "data_noise"
   ]
  },
  {
   "cell_type": "code",
   "execution_count": null,
   "metadata": {},
   "outputs": [],
   "source": [
    "'\\\\,\\\\cot{82^o},\\\\tan {80^o}'.split()"
   ]
  },
  {
   "cell_type": "code",
   "execution_count": null,
   "metadata": {},
   "outputs": [],
   "source": [
    "'cos66°24’ ≈ 0,4;'.split()"
   ]
  },
  {
   "cell_type": "code",
   "execution_count": null,
   "metadata": {},
   "outputs": [],
   "source": [
    "print(data_result)\n",
    "print(len(data_result))"
   ]
  },
  {
   "cell_type": "code",
   "execution_count": null,
   "metadata": {},
   "outputs": [],
   "source": [
    "with open('.../data_formular/formular_norm.txt', 'w') as f:\n",
    "    json.dump(data_result, f)"
   ]
  },
  {
   "cell_type": "code",
   "execution_count": null,
   "metadata": {},
   "outputs": [],
   "source": [
    "d_result = json.load(open('.../data_formular/formular_norm.txt'))"
   ]
  },
  {
   "cell_type": "code",
   "execution_count": null,
   "metadata": {},
   "outputs": [],
   "source": [
    "d_result"
   ]
  },
  {
   "cell_type": "code",
   "execution_count": null,
   "metadata": {},
   "outputs": [],
   "source": []
  }
 ],
 "metadata": {
  "kernelspec": {
   "display_name": "Python 3",
   "language": "python",
   "name": "python3"
  },
  "language_info": {
   "codemirror_mode": {
    "name": "ipython",
    "version": 3
   },
   "file_extension": ".py",
   "mimetype": "text/x-python",
   "name": "python",
   "nbconvert_exporter": "python",
   "pygments_lexer": "ipython3",
   "version": "3.6.4"
  }
 },
 "nbformat": 4,
 "nbformat_minor": 2
}
