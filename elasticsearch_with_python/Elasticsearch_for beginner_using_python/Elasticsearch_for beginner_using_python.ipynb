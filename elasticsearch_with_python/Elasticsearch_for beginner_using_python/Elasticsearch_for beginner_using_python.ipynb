{
 "cells": [
  {
   "cell_type": "code",
   "execution_count": 1,
   "metadata": {},
   "outputs": [],
   "source": [
    "from elasticsearch import Elasticsearch, RequestsHttpConnection"
   ]
  },
  {
   "cell_type": "code",
   "execution_count": 2,
   "metadata": {},
   "outputs": [],
   "source": [
    "# connect elasticsearch cluster\n",
    "es = Elasticsearch([{'host': 'localhost', 'port': 9200}])"
   ]
  },
  {
   "cell_type": "code",
   "execution_count": 3,
   "metadata": {},
   "outputs": [],
   "source": [
    "e_dict = {'e1' : {\n",
    "    \"movie\":\"Toy Story\",\n",
    "    \"country\": \"USA, Canada\",\n",
    "    \"genre\": [\"Animation\",\"Children's\",\"Comedy\"],\n",
    "    \"year_release\": \"1995\",\n",
    "    \"auther\": \"john\",\n",
    "    \"describe\": \"the love story of Linda and Jub\",\n",
    "    \"star\": 2,\n",
    "    },\n",
    "   'e2' : {\n",
    "    \"movie\":\"Titanic\",\n",
    "    \"country\": \"USA, England\",\n",
    "    \"genre\": [\"Children's\",\"drama\"],\n",
    "    \"year_release\": \"2000\",\n",
    "    \"auther\": \"kevin\",\n",
    "    \"describe\": \"the journey on the atlantic ocean of Titanic ship\",\n",
    "    \"star\": 5,\n",
    "    },\n",
    "    'e3' : {\n",
    "    \"movie\":\"Iron Man\",\n",
    "    \"country\": \"USA\",\n",
    "    \"genre\": [\"drama\",\"War\"],\n",
    "    \"year_release\": \"2010\",\n",
    "    \"auther\": \"Max\",\n",
    "    \"describe\": \"the story talk about Tony stark, a super hero\",\n",
    "    \"star\": 3,\n",
    "    },\n",
    "    'e4' : {\n",
    "    \"movie\":\"Naruto\",\n",
    "    \"country\": \"Japan\",\n",
    "    \"genre\": [\"Animation\",\"War\"],\n",
    "    \"year_release\": \"1998\",\n",
    "    \"auther\": \"Kimito\",\n",
    "    \"describe\": \"talk the journe to become a super ninja of Naruto\",\n",
    "    \"star\": 4,\n",
    "    },      }"
   ]
  },
  {
   "cell_type": "markdown",
   "metadata": {},
   "source": [
    "# insert"
   ]
  },
  {
   "cell_type": "code",
   "execution_count": 4,
   "metadata": {
    "scrolled": true
   },
   "outputs": [
    {
     "name": "stdout",
     "output_type": "stream",
     "text": [
      "e1\n",
      "updated\n",
      "e2\n",
      "updated\n",
      "e3\n",
      "updated\n",
      "e4\n",
      "updated\n"
     ]
    }
   ],
   "source": [
    "# let's store this document in elasticsearch\n",
    "for i,j in zip(e_dict, range(1, len(e_dict)+1)):\n",
    "    print(i)\n",
    "    res = es.index(index = 'idmov', doc_type = 'movie', id = j, body = e_dict[i])\n",
    "    print(res['result'])"
   ]
  },
  {
   "cell_type": "markdown",
   "metadata": {},
   "source": [
    "# retrieving the document in elasticsearch use : get"
   ]
  },
  {
   "cell_type": "code",
   "execution_count": 5,
   "metadata": {
    "scrolled": true
   },
   "outputs": [
    {
     "data": {
      "text/plain": [
       "{'_id': '1',\n",
       " '_index': 'idmov',\n",
       " '_source': {'auther': 'john',\n",
       "  'country': 'USA, Canada',\n",
       "  'describe': 'the love story of Linda and Jub',\n",
       "  'genre': ['Animation', \"Children's\", 'Comedy'],\n",
       "  'movie': 'Toy Story',\n",
       "  'star': 2,\n",
       "  'year_release': '1995'},\n",
       " '_type': 'movie',\n",
       " '_version': 8,\n",
       " 'found': True}"
      ]
     },
     "execution_count": 5,
     "metadata": {},
     "output_type": "execute_result"
    }
   ],
   "source": [
    "# retrieving a document in elasticsearch\n",
    "a = es.get(index = 'idmov', doc_type= 'movie', id = 1)\n",
    "a"
   ]
  },
  {
   "cell_type": "code",
   "execution_count": 6,
   "metadata": {},
   "outputs": [
    {
     "data": {
      "text/plain": [
       "'1'"
      ]
     },
     "execution_count": 6,
     "metadata": {},
     "output_type": "execute_result"
    }
   ],
   "source": [
    "a['_id']"
   ]
  },
  {
   "cell_type": "code",
   "execution_count": 7,
   "metadata": {},
   "outputs": [],
   "source": [
    "# retrieving the documents in elasticsearch\n",
    "m = dict()\n",
    "for i,j in zip(e_dict,range(1, len(e_dict)+ 1)):\n",
    "    m[i] = es.get(index = 'idmov', doc_type = 'movie', id = int(j))"
   ]
  },
  {
   "cell_type": "code",
   "execution_count": 8,
   "metadata": {},
   "outputs": [],
   "source": [
    "#m"
   ]
  },
  {
   "cell_type": "markdown",
   "metadata": {},
   "source": [
    "# search the document in elasticsearch from the content of the filed in document"
   ]
  },
  {
   "cell_type": "markdown",
   "metadata": {},
   "source": [
    "# using query statement: \"Match Query\"\n",
    "+ the standard query for performing full text queries, including fuzzy matching and phrase or proximity queries"
   ]
  },
  {
   "cell_type": "code",
   "execution_count": 9,
   "metadata": {
    "scrolled": true
   },
   "outputs": [
    {
     "data": {
      "text/plain": [
       "2"
      ]
     },
     "execution_count": 9,
     "metadata": {},
     "output_type": "execute_result"
    }
   ],
   "source": [
    "# match query request accept text/numerics/dates, analyzer them\n",
    "a1 = es.search(index = 'idmov', doc_type = 'movie', body = {\n",
    "    \"query\": {\n",
    "        \"match\": {\n",
    "            \"genre\" : \"ani war\"\n",
    "        }\n",
    "    }\n",
    "})\n",
    "a1['hits']['total']"
   ]
  },
  {
   "cell_type": "code",
   "execution_count": 10,
   "metadata": {
    "scrolled": true
   },
   "outputs": [
    {
     "data": {
      "text/plain": [
       "{'_shards': {'failed': 0, 'skipped': 0, 'successful': 5, 'total': 5},\n",
       " 'hits': {'hits': [{'_id': '4',\n",
       "    '_index': 'idmov',\n",
       "    '_score': 0.6931472,\n",
       "    '_source': {'auther': 'Kimito',\n",
       "     'country': 'Japan',\n",
       "     'describe': 'talk the journe to become a super ninja of Naruto',\n",
       "     'genre': ['Animation', 'War'],\n",
       "     'movie': 'Naruto',\n",
       "     'star': 4,\n",
       "     'year_release': '1998'},\n",
       "    '_type': 'movie'},\n",
       "   {'_id': '3',\n",
       "    '_index': 'idmov',\n",
       "    '_score': 0.2876821,\n",
       "    '_source': {'auther': 'Max',\n",
       "     'country': 'USA',\n",
       "     'describe': 'the story talk about Tony stark, a super hero',\n",
       "     'genre': ['drama', 'War'],\n",
       "     'movie': 'Iron Man',\n",
       "     'star': 3,\n",
       "     'year_release': '2010'},\n",
       "    '_type': 'movie'}],\n",
       "  'max_score': 0.6931472,\n",
       "  'total': 2},\n",
       " 'timed_out': False,\n",
       " 'took': 1038}"
      ]
     },
     "execution_count": 10,
     "metadata": {},
     "output_type": "execute_result"
    }
   ],
   "source": [
    "a1"
   ]
  },
  {
   "cell_type": "code",
   "execution_count": 11,
   "metadata": {},
   "outputs": [
    {
     "name": "stdout",
     "output_type": "stream",
     "text": [
      "2\n",
      "0.6931472\n"
     ]
    }
   ],
   "source": [
    "print(a1['hits']['total'])\n",
    "print(a1['hits']['max_score'])"
   ]
  },
  {
   "cell_type": "code",
   "execution_count": 12,
   "metadata": {
    "scrolled": true
   },
   "outputs": [
    {
     "data": {
      "text/plain": [
       "[{'_id': '4',\n",
       "  '_index': 'idmov',\n",
       "  '_score': 0.6931472,\n",
       "  '_source': {'auther': 'Kimito',\n",
       "   'country': 'Japan',\n",
       "   'describe': 'talk the journe to become a super ninja of Naruto',\n",
       "   'genre': ['Animation', 'War'],\n",
       "   'movie': 'Naruto',\n",
       "   'star': 4,\n",
       "   'year_release': '1998'},\n",
       "  '_type': 'movie'},\n",
       " {'_id': '3',\n",
       "  '_index': 'idmov',\n",
       "  '_score': 0.2876821,\n",
       "  '_source': {'auther': 'Max',\n",
       "   'country': 'USA',\n",
       "   'describe': 'the story talk about Tony stark, a super hero',\n",
       "   'genre': ['drama', 'War'],\n",
       "   'movie': 'Iron Man',\n",
       "   'star': 3,\n",
       "   'year_release': '2010'},\n",
       "  '_type': 'movie'}]"
      ]
     },
     "execution_count": 12,
     "metadata": {},
     "output_type": "execute_result"
    }
   ],
   "source": [
    "a1['hits']['hits']"
   ]
  },
  {
   "cell_type": "code",
   "execution_count": 13,
   "metadata": {},
   "outputs": [],
   "source": [
    "# take the document has the result most proximity"
   ]
  },
  {
   "cell_type": "code",
   "execution_count": 14,
   "metadata": {},
   "outputs": [
    {
     "data": {
      "text/plain": [
       "{'_id': '4',\n",
       " '_index': 'idmov',\n",
       " '_score': 0.6931472,\n",
       " '_source': {'auther': 'Kimito',\n",
       "  'country': 'Japan',\n",
       "  'describe': 'talk the journe to become a super ninja of Naruto',\n",
       "  'genre': ['Animation', 'War'],\n",
       "  'movie': 'Naruto',\n",
       "  'star': 4,\n",
       "  'year_release': '1998'},\n",
       " '_type': 'movie'}"
      ]
     },
     "execution_count": 14,
     "metadata": {},
     "output_type": "execute_result"
    }
   ],
   "source": [
    "# the way 1\n",
    "a1['hits']['hits'][0]"
   ]
  },
  {
   "cell_type": "code",
   "execution_count": 15,
   "metadata": {},
   "outputs": [
    {
     "data": {
      "text/plain": [
       "'4'"
      ]
     },
     "execution_count": 15,
     "metadata": {},
     "output_type": "execute_result"
    }
   ],
   "source": [
    "a1['hits']['hits'][0]['_id']"
   ]
  },
  {
   "cell_type": "code",
   "execution_count": 16,
   "metadata": {},
   "outputs": [
    {
     "name": "stdout",
     "output_type": "stream",
     "text": [
      "{'_index': 'idmov', '_type': 'movie', '_id': '4', '_score': 0.6931472, '_source': {'movie': 'Naruto', 'country': 'Japan', 'genre': ['Animation', 'War'], 'year_release': '1998', 'auther': 'Kimito', 'describe': 'talk the journe to become a super ninja of Naruto', 'star': 4}}\n"
     ]
    }
   ],
   "source": [
    "# the way 2 : search the document has the reusult most proximity\n",
    "max_score = a1['hits']['max_score']\n",
    "for i in a1['hits']['hits']:\n",
    "    if(i['_score'] == max_score):\n",
    "        print(i)"
   ]
  },
  {
   "cell_type": "markdown",
   "metadata": {},
   "source": [
    "Match\n",
    "\n",
    "The match query is of type boolean. It means that the text provided is analyzed and the analysis process constructs a boolean query from the provided text. The operator flag can be set to or or and to control the boolean clauses (defaults to or). The minimum number of optional should clauses to match can be set using the minimum_should_match parameter.\n",
    "\n",
    "The analyzer can be set to control which analyzer will perform the analysis process on the text. It defaults to the field explicit mapping definition, or the default search analyzer.\n",
    "\n",
    "The lenient parameter can be set to true to ignore exceptions caused by data-type mismatches, such as trying to query a numeric field with a text query string. Defaults to false."
   ]
  },
  {
   "cell_type": "markdown",
   "metadata": {},
   "source": [
    "# using query Statement : \"fuzzy search\"\n",
    "+ fuzzy search use Lavenshtein Edit Distance to allow config parameter fuzziness is gave the fit reusult for need"
   ]
  },
  {
   "cell_type": "code",
   "execution_count": 17,
   "metadata": {},
   "outputs": [
    {
     "data": {
      "text/plain": [
       "4"
      ]
     },
     "execution_count": 17,
     "metadata": {},
     "output_type": "execute_result"
    }
   ],
   "source": [
    "# using operator parameter\n",
    "a2 = es.search(index = 'idmov', doc_type = \"movie\", body = {\n",
    "    \"query\": {\n",
    "        \"match\" : {\n",
    "            \"describe\" : {\n",
    "                \"query\" : \"the story ton\",\n",
    "                \"operator\" : \"or\"\n",
    "            }\n",
    "        }\n",
    "    }\n",
    "})\n",
    "a2['hits']['total']"
   ]
  },
  {
   "cell_type": "code",
   "execution_count": 18,
   "metadata": {},
   "outputs": [
    {
     "data": {
      "text/plain": [
       "0"
      ]
     },
     "execution_count": 18,
     "metadata": {},
     "output_type": "execute_result"
    }
   ],
   "source": [
    "a2 = es.search(index = 'idmov', doc_type = \"movie\", body = {\n",
    "    \"query\": {\n",
    "        \"match\" : {\n",
    "            \"describe\" : {\n",
    "                \"query\" : \"the story ton\",\n",
    "                \"operator\" : \"and\"\n",
    "            }\n",
    "        }\n",
    "    }\n",
    "})\n",
    "a2['hits']['total']"
   ]
  },
  {
   "cell_type": "code",
   "execution_count": 19,
   "metadata": {},
   "outputs": [
    {
     "data": {
      "text/plain": [
       "[{'_id': '2',\n",
       "  '_index': 'idmov',\n",
       "  '_score': 0.7083998,\n",
       "  '_source': {'auther': 'kevin',\n",
       "   'country': 'USA, England',\n",
       "   'describe': 'the journey on the atlantic ocean of Titanic ship',\n",
       "   'genre': [\"Children's\", 'drama'],\n",
       "   'movie': 'Titanic',\n",
       "   'star': 5,\n",
       "   'year_release': '2000'},\n",
       "  '_type': 'movie'},\n",
       " {'_id': '4',\n",
       "  '_index': 'idmov',\n",
       "  '_score': 0.6785375,\n",
       "  '_source': {'auther': 'Kimito',\n",
       "   'country': 'Japan',\n",
       "   'describe': 'talk the journe to become a super ninja of Naruto',\n",
       "   'genre': ['Animation', 'War'],\n",
       "   'movie': 'Naruto',\n",
       "   'star': 4,\n",
       "   'year_release': '1998'},\n",
       "  '_type': 'movie'}]"
      ]
     },
     "execution_count": 19,
     "metadata": {},
     "output_type": "execute_result"
    }
   ],
   "source": [
    "# match query\n",
    "a = es.search(index = 'idmov', doc_type = 'movie', body = {\n",
    "    \"query\": {\n",
    "        \"match\": {\n",
    "            \"describe\": \"journey to\"\n",
    "        }\n",
    "    }\n",
    "})\n",
    "a['hits']['hits']"
   ]
  },
  {
   "cell_type": "code",
   "execution_count": 20,
   "metadata": {},
   "outputs": [
    {
     "data": {
      "text/plain": [
       "[{'_id': '4',\n",
       "  '_index': 'idmov',\n",
       "  '_score': 0.6785375,\n",
       "  '_source': {'auther': 'Kimito',\n",
       "   'country': 'Japan',\n",
       "   'describe': 'talk the journe to become a super ninja of Naruto',\n",
       "   'genre': ['Animation', 'War'],\n",
       "   'movie': 'Naruto',\n",
       "   'star': 4,\n",
       "   'year_release': '1998'},\n",
       "  '_type': 'movie'}]"
      ]
     },
     "execution_count": 20,
     "metadata": {},
     "output_type": "execute_result"
    }
   ],
   "source": [
    "# match query\n",
    "a = es.search(index = 'idmov', doc_type = 'movie', body = {\n",
    "    \"query\": {\n",
    "        \"match\": {\n",
    "            \"describe\": \"journ to\"\n",
    "        }\n",
    "    }\n",
    "})\n",
    "a['hits']['hits']"
   ]
  },
  {
   "cell_type": "code",
   "execution_count": 21,
   "metadata": {
    "scrolled": true
   },
   "outputs": [
    {
     "data": {
      "text/plain": [
       "[{'_id': '4',\n",
       "  '_index': 'idmov',\n",
       "  '_score': 0.6785375,\n",
       "  '_source': {'auther': 'Kimito',\n",
       "   'country': 'Japan',\n",
       "   'describe': 'talk the journe to become a super ninja of Naruto',\n",
       "   'genre': ['Animation', 'War'],\n",
       "   'movie': 'Naruto',\n",
       "   'star': 4,\n",
       "   'year_release': '1998'},\n",
       "  '_type': 'movie'}]"
      ]
     },
     "execution_count": 21,
     "metadata": {},
     "output_type": "execute_result"
    }
   ],
   "source": [
    "# match query\n",
    "a = es.search(index = 'idmov', doc_type = 'movie', body = {\n",
    "    \"query\": {\n",
    "        \"match\": {\n",
    "            \"describe\": \"becom to\"\n",
    "        }\n",
    "    }\n",
    "})\n",
    "a['hits']['hits']"
   ]
  },
  {
   "cell_type": "code",
   "execution_count": 22,
   "metadata": {},
   "outputs": [
    {
     "data": {
      "text/plain": [
       "[{'_id': '2',\n",
       "  '_index': 'idmov',\n",
       "  '_score': 0.89473325,\n",
       "  '_source': {'auther': 'kevin',\n",
       "   'country': 'USA, England',\n",
       "   'describe': 'the journey on the atlantic ocean of Titanic ship',\n",
       "   'genre': [\"Children's\", 'drama'],\n",
       "   'movie': 'Titanic',\n",
       "   'star': 5,\n",
       "   'year_release': '2000'},\n",
       "  '_type': 'movie'}]"
      ]
     },
     "execution_count": 22,
     "metadata": {},
     "output_type": "execute_result"
    }
   ],
   "source": [
    "# phrase_match\n",
    "a = es.search(index = 'idmov', doc_type = 'movie', body = {\n",
    "    \"query\": {\n",
    "        \"match_phrase\": {\n",
    "            \"describe\": \"the journey\"\n",
    "        }\n",
    "    }\n",
    "})\n",
    "a['hits']['hits']"
   ]
  },
  {
   "cell_type": "code",
   "execution_count": 23,
   "metadata": {},
   "outputs": [
    {
     "data": {
      "text/plain": [
       "[{'_id': '4',\n",
       "  '_index': 'idmov',\n",
       "  '_score': 0.8570162,\n",
       "  '_source': {'auther': 'Kimito',\n",
       "   'country': 'Japan',\n",
       "   'describe': 'talk the journe to become a super ninja of Naruto',\n",
       "   'genre': ['Animation', 'War'],\n",
       "   'movie': 'Naruto',\n",
       "   'star': 4,\n",
       "   'year_release': '1998'},\n",
       "  '_type': 'movie'}]"
      ]
     },
     "execution_count": 23,
     "metadata": {},
     "output_type": "execute_result"
    }
   ],
   "source": [
    "# phrase_match\n",
    "a = es.search(index = 'idmov', doc_type = 'movie', body = {\n",
    "    \"query\": {\n",
    "        \"match_phrase\": {\n",
    "            \"describe\": \"the journe\"\n",
    "        }\n",
    "    }\n",
    "})\n",
    "a['hits']['hits']"
   ]
  },
  {
   "cell_type": "code",
   "execution_count": 24,
   "metadata": {},
   "outputs": [
    {
     "data": {
      "text/plain": [
       "[]"
      ]
     },
     "execution_count": 24,
     "metadata": {},
     "output_type": "execute_result"
    }
   ],
   "source": [
    "# phrase_match : search exact documnent contain \"the bec\" of the field \"describe\", result : empty\n",
    "a = es.search(index = 'idmov', doc_type = 'movie', body = {\n",
    "    \"query\": {\n",
    "        \"match_phrase\": {\n",
    "            \"describe\": \"the bec\"\n",
    "        }\n",
    "    }\n",
    "})\n",
    "a['hits']['hits']"
   ]
  },
  {
   "cell_type": "code",
   "execution_count": 25,
   "metadata": {
    "scrolled": true
   },
   "outputs": [
    {
     "data": {
      "text/plain": [
       "[{'_id': '2',\n",
       "  '_index': 'idmov',\n",
       "  '_score': 1.0,\n",
       "  '_source': {'auther': 'kevin',\n",
       "   'country': 'USA, England',\n",
       "   'describe': 'the journey on the atlantic ocean of Titanic ship',\n",
       "   'genre': [\"Children's\", 'drama'],\n",
       "   'movie': 'Titanic',\n",
       "   'star': 5,\n",
       "   'year_release': '2000'},\n",
       "  '_type': 'movie'},\n",
       " {'_id': '3',\n",
       "  '_index': 'idmov',\n",
       "  '_score': 1.0,\n",
       "  '_source': {'auther': 'Max',\n",
       "   'country': 'USA',\n",
       "   'describe': 'the story talk about Tony stark, a super hero',\n",
       "   'genre': ['drama', 'War'],\n",
       "   'movie': 'Iron Man',\n",
       "   'star': 3,\n",
       "   'year_release': '2010'},\n",
       "  '_type': 'movie'}]"
      ]
     },
     "execution_count": 25,
     "metadata": {},
     "output_type": "execute_result"
    }
   ],
   "source": [
    "# prefix query\n",
    "a = es.search(index = 'idmov', doc_type = 'movie', body = {\n",
    "    \"query\": {\n",
    "        \"prefix\": {\n",
    "            \"genre\": \"dram\"\n",
    "        }\n",
    "    }\n",
    "})\n",
    "a['hits']['hits']"
   ]
  },
  {
   "cell_type": "code",
   "execution_count": 26,
   "metadata": {},
   "outputs": [
    {
     "data": {
      "text/plain": [
       "[]"
      ]
     },
     "execution_count": 26,
     "metadata": {},
     "output_type": "execute_result"
    }
   ],
   "source": [
    "# prefix query : we is received empty, baucause prefix query search the field \"genre\" contain \"dram a\"\n",
    "a = es.search(index = 'idmov', doc_type = 'movie', body = {\n",
    "    \"query\": {\n",
    "        \"prefix\": {\n",
    "            \"genre\": \"dram a\"\n",
    "        }\n",
    "    }\n",
    "})\n",
    "a['hits']['hits']"
   ]
  },
  {
   "cell_type": "code",
   "execution_count": 27,
   "metadata": {
    "scrolled": true
   },
   "outputs": [
    {
     "data": {
      "text/plain": [
       "{'_shards': {'failed': 0, 'skipped': 0, 'successful': 5, 'total': 5},\n",
       " 'hits': {'hits': [{'_id': '2',\n",
       "    '_index': 'idmov',\n",
       "    '_score': 0.6931472,\n",
       "    '_source': {'auther': 'kevin',\n",
       "     'country': 'USA, England',\n",
       "     'describe': 'the journey on the atlantic ocean of Titanic ship',\n",
       "     'genre': [\"Children's\", 'drama'],\n",
       "     'movie': 'Titanic',\n",
       "     'star': 5,\n",
       "     'year_release': '2000'},\n",
       "    '_type': 'movie'},\n",
       "   {'_id': '3',\n",
       "    '_index': 'idmov',\n",
       "    '_score': 0.2876821,\n",
       "    '_source': {'auther': 'Max',\n",
       "     'country': 'USA',\n",
       "     'describe': 'the story talk about Tony stark, a super hero',\n",
       "     'genre': ['drama', 'War'],\n",
       "     'movie': 'Iron Man',\n",
       "     'star': 3,\n",
       "     'year_release': '2010'},\n",
       "    '_type': 'movie'}],\n",
       "  'max_score': 0.6931472,\n",
       "  'total': 2},\n",
       " 'timed_out': False,\n",
       " 'took': 2}"
      ]
     },
     "execution_count": 27,
     "metadata": {},
     "output_type": "execute_result"
    }
   ],
   "source": [
    "# term query finds document that contain exact term specified in the inverted index\n",
    "a = es.search(index = 'idmov', doc_type = 'movie', body = {\n",
    "    \"query\": {\n",
    "        \"term\": {\n",
    "            \"genre\": \"drama\"\n",
    "        }\n",
    "    }\n",
    "    })\n",
    "a"
   ]
  },
  {
   "cell_type": "code",
   "execution_count": 28,
   "metadata": {},
   "outputs": [
    {
     "data": {
      "text/plain": [
       "{'_shards': {'failed': 0, 'skipped': 0, 'successful': 5, 'total': 5},\n",
       " 'hits': {'hits': [], 'max_score': None, 'total': 0},\n",
       " 'timed_out': False,\n",
       " 'took': 25}"
      ]
     },
     "execution_count": 28,
     "metadata": {},
     "output_type": "execute_result"
    }
   ],
   "source": [
    "# term query: result empty, because term query not finds any content \"dram\" in the field \"genre\" of the documents\n",
    "a = es.search(index = 'idmov', doc_type = 'movie', body = {\n",
    "    \"query\": {\n",
    "        \"term\": {\n",
    "            \"genre\": \"dram\"\n",
    "        }\n",
    "    }\n",
    "    })\n",
    "a"
   ]
  },
  {
   "cell_type": "code",
   "execution_count": 29,
   "metadata": {
    "scrolled": true
   },
   "outputs": [
    {
     "data": {
      "text/plain": [
       "[{'_id': '2',\n",
       "  '_index': 'idmov',\n",
       "  '_score': 1.0,\n",
       "  '_source': {'auther': 'kevin',\n",
       "   'country': 'USA, England',\n",
       "   'describe': 'the journey on the atlantic ocean of Titanic ship',\n",
       "   'genre': [\"Children's\", 'drama'],\n",
       "   'movie': 'Titanic',\n",
       "   'star': 5,\n",
       "   'year_release': '2000'},\n",
       "  '_type': 'movie'},\n",
       " {'_id': '4',\n",
       "  '_index': 'idmov',\n",
       "  '_score': 1.0,\n",
       "  '_source': {'auther': 'Kimito',\n",
       "   'country': 'Japan',\n",
       "   'describe': 'talk the journe to become a super ninja of Naruto',\n",
       "   'genre': ['Animation', 'War'],\n",
       "   'movie': 'Naruto',\n",
       "   'star': 4,\n",
       "   'year_release': '1998'},\n",
       "  '_type': 'movie'},\n",
       " {'_id': '3',\n",
       "  '_index': 'idmov',\n",
       "  '_score': 1.0,\n",
       "  '_source': {'auther': 'Max',\n",
       "   'country': 'USA',\n",
       "   'describe': 'the story talk about Tony stark, a super hero',\n",
       "   'genre': ['drama', 'War'],\n",
       "   'movie': 'Iron Man',\n",
       "   'star': 3,\n",
       "   'year_release': '2010'},\n",
       "  '_type': 'movie'}]"
      ]
     },
     "execution_count": 29,
     "metadata": {},
     "output_type": "execute_result"
    }
   ],
   "source": [
    "# terms query \n",
    "a = es.search(index = 'idmov', doc_type = 'movie', body = {\n",
    "    \"query\": {\n",
    "        \"terms\": {\n",
    "            \"genre\":[ \"drama\", 'war']\n",
    "        }\n",
    "    }\n",
    "    })\n",
    "a['hits']['hits']"
   ]
  },
  {
   "cell_type": "code",
   "execution_count": 30,
   "metadata": {
    "scrolled": true
   },
   "outputs": [
    {
     "data": {
      "text/plain": [
       "({'hits': [{'_id': '4',\n",
       "    '_index': 'idmov',\n",
       "    '_score': 1.0,\n",
       "    '_source': {'auther': 'Kimito',\n",
       "     'country': 'Japan',\n",
       "     'describe': 'talk the journe to become a super ninja of Naruto',\n",
       "     'genre': ['Animation', 'War'],\n",
       "     'movie': 'Naruto',\n",
       "     'star': 4,\n",
       "     'year_release': '1998'},\n",
       "    '_type': 'movie'},\n",
       "   {'_id': '1',\n",
       "    '_index': 'idmov',\n",
       "    '_score': 1.0,\n",
       "    '_source': {'auther': 'john',\n",
       "     'country': 'USA, Canada',\n",
       "     'describe': 'the love story of Linda and Jub',\n",
       "     'genre': ['Animation', \"Children's\", 'Comedy'],\n",
       "     'movie': 'Toy Story',\n",
       "     'star': 2,\n",
       "     'year_release': '1995'},\n",
       "    '_type': 'movie'}],\n",
       "  'max_score': 1.0,\n",
       "  'total': 2},\n",
       " ['hits'])"
      ]
     },
     "execution_count": 30,
     "metadata": {},
     "output_type": "execute_result"
    }
   ],
   "source": [
    "# terms query \n",
    "a = es.search(index = 'idmov', doc_type = 'movie', body = {\n",
    "    \"query\": {\n",
    "        \"terms\": {\n",
    "            \"genre\":[ \"dram a\", 'animation']\n",
    "        }\n",
    "    }\n",
    "    })\n",
    "a['hits'],[ 'hits']"
   ]
  },
  {
   "cell_type": "code",
   "execution_count": 31,
   "metadata": {},
   "outputs": [
    {
     "data": {
      "text/plain": [
       "[{'_id': '4',\n",
       "  '_index': 'idmov',\n",
       "  '_score': 0.6785375,\n",
       "  '_source': {'auther': 'Kimito',\n",
       "   'country': 'Japan',\n",
       "   'describe': 'talk the journe to become a super ninja of Naruto',\n",
       "   'genre': ['Animation', 'War'],\n",
       "   'movie': 'Naruto',\n",
       "   'star': 4,\n",
       "   'year_release': '1998'},\n",
       "  '_type': 'movie'}]"
      ]
     },
     "execution_count": 31,
     "metadata": {},
     "output_type": "execute_result"
    }
   ],
   "source": [
    "# multi_match query \n",
    "a = es.search(index = 'idmov', doc_type = 'movie', body = {\n",
    "    \"query\": {\n",
    "        \"multi_match\": {\n",
    "            \"query\": \"becom to\",\n",
    "            \"fields\": [\"describe\", \"author\"]\n",
    "        }\n",
    "    }\n",
    "})\n",
    "a['hits']['hits']"
   ]
  },
  {
   "cell_type": "code",
   "execution_count": 32,
   "metadata": {},
   "outputs": [
    {
     "data": {
      "text/plain": [
       "[{'_id': '4',\n",
       "  '_index': 'idmov',\n",
       "  '_score': 2.0356126,\n",
       "  '_source': {'auther': 'Kimito',\n",
       "   'country': 'Japan',\n",
       "   'describe': 'talk the journe to become a super ninja of Naruto',\n",
       "   'genre': ['Animation', 'War'],\n",
       "   'movie': 'Naruto',\n",
       "   'star': 4,\n",
       "   'year_release': '1998'},\n",
       "  '_type': 'movie'}]"
      ]
     },
     "execution_count": 32,
     "metadata": {},
     "output_type": "execute_result"
    }
   ],
   "source": [
    "# controlling percision : multi_match\n",
    "#elasticsearch support :\"minimum_should_match\" parameter, we give out the term , from this term, we query to document\n",
    "a = es.search(index = 'idmov', doc_type = 'movie', body = {\n",
    "    \"query\": {\n",
    "        \"multi_match\": {\n",
    "            \"query\": \"talk is journe ninja\",\n",
    "            # we will make query to the documents contain less 75% words in the phrases \" talk the journe to\"\n",
    "            \"minimum_should_match\": \"75%\"\n",
    "        }\n",
    "    }\n",
    "})\n",
    "a['hits']['hits']"
   ]
  },
  {
   "cell_type": "markdown",
   "metadata": {},
   "source": [
    "# bool query\n",
    "+ a query that matches documents matching boolen combinations of other queries\n",
    "+ queries : must, not must, filter, should"
   ]
  },
  {
   "cell_type": "code",
   "execution_count": 33,
   "metadata": {},
   "outputs": [
    {
     "data": {
      "text/plain": [
       "[]"
      ]
     },
     "execution_count": 33,
     "metadata": {},
     "output_type": "execute_result"
    }
   ],
   "source": [
    "# must query : the clause(query) appear in the matching document\n",
    "a = es.search(index = 'idmov', doc_type = 'movie', body = {\n",
    "    \"query\": {\n",
    "        \"bool\": {\n",
    "            \"must\": {\n",
    "                \"term\" : {\"auther\": \"joh\"}\n",
    "            }\n",
    "        }\n",
    "    }\n",
    "})\n",
    "a['hits']['hits']"
   ]
  },
  {
   "cell_type": "code",
   "execution_count": 34,
   "metadata": {},
   "outputs": [
    {
     "data": {
      "text/plain": [
       "[{'_id': '1',\n",
       "  '_index': 'idmov',\n",
       "  '_score': 0.2876821,\n",
       "  '_source': {'auther': 'john',\n",
       "   'country': 'USA, Canada',\n",
       "   'describe': 'the love story of Linda and Jub',\n",
       "   'genre': ['Animation', \"Children's\", 'Comedy'],\n",
       "   'movie': 'Toy Story',\n",
       "   'star': 2,\n",
       "   'year_release': '1995'},\n",
       "  '_type': 'movie'}]"
      ]
     },
     "execution_count": 34,
     "metadata": {},
     "output_type": "execute_result"
    }
   ],
   "source": [
    "a = es.search(index = 'idmov', doc_type = 'movie', body = {\n",
    "    \"query\": {\n",
    "        \"bool\": {\n",
    "            \"must\": {\n",
    "                \"term\" : {\"auther\": \"john\"}\n",
    "            }\n",
    "        }\n",
    "    }\n",
    "})\n",
    "a['hits']['hits']"
   ]
  },
  {
   "cell_type": "code",
   "execution_count": 35,
   "metadata": {
    "scrolled": true
   },
   "outputs": [
    {
     "data": {
      "text/plain": [
       "3"
      ]
     },
     "execution_count": 35,
     "metadata": {},
     "output_type": "execute_result"
    }
   ],
   "source": [
    "# must_not query : the clause (query) must not appear in the matching documents\n",
    "a = es.search(index = 'idmov', doc_type = 'movie', body = {\n",
    "    \"query\": {\n",
    "        \"bool\": {\n",
    "            \"must_not\": {\n",
    "                \"term\" : {\"auther\": \"john\"}\n",
    "            }\n",
    "        }\n",
    "    }\n",
    "})\n",
    "a['hits']['total']"
   ]
  },
  {
   "cell_type": "code",
   "execution_count": 36,
   "metadata": {
    "scrolled": true
   },
   "outputs": [
    {
     "data": {
      "text/plain": [
       "[{'_id': '2',\n",
       "  '_index': 'idmov',\n",
       "  '_score': 1.0,\n",
       "  '_source': {'auther': 'kevin',\n",
       "   'country': 'USA, England',\n",
       "   'describe': 'the journey on the atlantic ocean of Titanic ship',\n",
       "   'genre': [\"Children's\", 'drama'],\n",
       "   'movie': 'Titanic',\n",
       "   'star': 5,\n",
       "   'year_release': '2000'},\n",
       "  '_type': 'movie'},\n",
       " {'_id': '4',\n",
       "  '_index': 'idmov',\n",
       "  '_score': 1.0,\n",
       "  '_source': {'auther': 'Kimito',\n",
       "   'country': 'Japan',\n",
       "   'describe': 'talk the journe to become a super ninja of Naruto',\n",
       "   'genre': ['Animation', 'War'],\n",
       "   'movie': 'Naruto',\n",
       "   'star': 4,\n",
       "   'year_release': '1998'},\n",
       "  '_type': 'movie'},\n",
       " {'_id': '1',\n",
       "  '_index': 'idmov',\n",
       "  '_score': 1.0,\n",
       "  '_source': {'auther': 'john',\n",
       "   'country': 'USA, Canada',\n",
       "   'describe': 'the love story of Linda and Jub',\n",
       "   'genre': ['Animation', \"Children's\", 'Comedy'],\n",
       "   'movie': 'Toy Story',\n",
       "   'star': 2,\n",
       "   'year_release': '1995'},\n",
       "  '_type': 'movie'},\n",
       " {'_id': '3',\n",
       "  '_index': 'idmov',\n",
       "  '_score': 1.0,\n",
       "  '_source': {'auther': 'Max',\n",
       "   'country': 'USA',\n",
       "   'describe': 'the story talk about Tony stark, a super hero',\n",
       "   'genre': ['drama', 'War'],\n",
       "   'movie': 'Iron Man',\n",
       "   'star': 3,\n",
       "   'year_release': '2010'},\n",
       "  '_type': 'movie'}]"
      ]
     },
     "execution_count": 36,
     "metadata": {},
     "output_type": "execute_result"
    }
   ],
   "source": [
    "a = es.search(index = 'idmov', doc_type = 'movie', body = {\n",
    "    \"query\": {\n",
    "        \"bool\": {\n",
    "            \"must_not\": {\n",
    "                \"range\" : {\n",
    "                    \"star\": {\"lte\":3,\"gte\": 5}\n",
    "                }\n",
    "            }\n",
    "        }\n",
    "    }\n",
    "})\n",
    "a['hits']['hits']"
   ]
  },
  {
   "cell_type": "code",
   "execution_count": 37,
   "metadata": {},
   "outputs": [
    {
     "data": {
      "text/plain": [
       "[{'_id': '3',\n",
       "  '_index': 'idmov',\n",
       "  '_score': 0.2876821,\n",
       "  '_source': {'auther': 'Max',\n",
       "   'country': 'USA',\n",
       "   'describe': 'the story talk about Tony stark, a super hero',\n",
       "   'genre': ['drama', 'War'],\n",
       "   'movie': 'Iron Man',\n",
       "   'star': 3,\n",
       "   'year_release': '2010'},\n",
       "  '_type': 'movie'}]"
      ]
     },
     "execution_count": 37,
     "metadata": {},
     "output_type": "execute_result"
    }
   ],
   "source": [
    "a = es.search(index = 'idmov', doc_type = 'movie', body = {\n",
    "    \"query\": {\n",
    "        \"bool\" : {\n",
    "          \"must\" : {\n",
    "            \"term\" : { \"genre\" : \"drama\" }\n",
    "          },\n",
    "          \"must_not\" : {\n",
    "              \"term\" : { \"auther\": \"kevin\" }\n",
    "                }\n",
    "          }\n",
    "        }\n",
    "})\n",
    "a['hits']['hits']"
   ]
  },
  {
   "cell_type": "code",
   "execution_count": 38,
   "metadata": {},
   "outputs": [
    {
     "data": {
      "text/plain": [
       "[{'_id': '3',\n",
       "  '_index': 'idmov',\n",
       "  '_score': 0.2876821,\n",
       "  '_source': {'auther': 'Max',\n",
       "   'country': 'USA',\n",
       "   'describe': 'the story talk about Tony stark, a super hero',\n",
       "   'genre': ['drama', 'War'],\n",
       "   'movie': 'Iron Man',\n",
       "   'star': 3,\n",
       "   'year_release': '2010'},\n",
       "  '_type': 'movie'}]"
      ]
     },
     "execution_count": 38,
     "metadata": {},
     "output_type": "execute_result"
    }
   ],
   "source": [
    "# combining queries : bool query (must - must_not)\n",
    "#we can make query data form the documents with the many terms \n",
    "a = es.search(index = 'idmov', doc_type = 'movie', body = {\n",
    "    \"query\": {\n",
    "        \"bool\": {\n",
    "            \"must\": {\"match\": {\"genre\" : \"drama\"}},\n",
    "            \"must_not\": {\"match\": {\"auther\": \"kevin\"}}\n",
    "        }\n",
    "    }\n",
    "})\n",
    "a['hits']['hits']"
   ]
  },
  {
   "cell_type": "code",
   "execution_count": 39,
   "metadata": {},
   "outputs": [
    {
     "data": {
      "text/plain": [
       "[]"
      ]
     },
     "execution_count": 39,
     "metadata": {},
     "output_type": "execute_result"
    }
   ],
   "source": [
    "# filter query : the clause (query) must appear in the matching document\n",
    "a = es.search(index = 'idmov', doc_type = 'movie', body = {\n",
    "    \"query\": {\n",
    "        \"bool\" : {\n",
    "          \"filter\" : {\n",
    "            \"term\" : { \"describe\" : \"the story\" }\n",
    "          }\n",
    "          }\n",
    "        }\n",
    "})\n",
    "a['hits']['hits']"
   ]
  },
  {
   "cell_type": "code",
   "execution_count": 40,
   "metadata": {},
   "outputs": [
    {
     "data": {
      "text/plain": [
       "2"
      ]
     },
     "execution_count": 40,
     "metadata": {},
     "output_type": "execute_result"
    }
   ],
   "source": [
    "a = es.search(index = 'idmov', doc_type = 'movie', body = {\n",
    "    \"query\": {\n",
    "        \"bool\" : {\n",
    "          \"filter\" : {\n",
    "            \"term\" : { \"genre\" : \"drama\" }\n",
    "          }\n",
    "          }\n",
    "        }\n",
    "})\n",
    "a['hits']['total']"
   ]
  },
  {
   "cell_type": "code",
   "execution_count": 41,
   "metadata": {},
   "outputs": [
    {
     "data": {
      "text/plain": [
       "[{'_id': '3',\n",
       "  '_index': 'idmov',\n",
       "  '_score': 0.2876821,\n",
       "  '_source': {'auther': 'Max',\n",
       "   'country': 'USA',\n",
       "   'describe': 'the story talk about Tony stark, a super hero',\n",
       "   'genre': ['drama', 'War'],\n",
       "   'movie': 'Iron Man',\n",
       "   'star': 3,\n",
       "   'year_release': '2010'},\n",
       "  '_type': 'movie'}]"
      ]
     },
     "execution_count": 41,
     "metadata": {},
     "output_type": "execute_result"
    }
   ],
   "source": [
    "a = es.search(index = 'idmov', doc_type = 'movie', body = {\n",
    "    \"query\": {\n",
    "        \"bool\" : {\n",
    "          \"must\" : {\n",
    "            \"term\" : { \"genre\" : \"drama\" }\n",
    "          },\n",
    "          \"filter\": {\n",
    "              \"term\": {\"star\": 3}\n",
    "          },\n",
    "          \"must_not\" : {\n",
    "              \"term\" : { \"auther\": \"kevin\" }\n",
    "                }\n",
    "          }\n",
    "        }\n",
    "})\n",
    "a['hits']['hits']"
   ]
  },
  {
   "cell_type": "code",
   "execution_count": 42,
   "metadata": {},
   "outputs": [
    {
     "data": {
      "text/plain": [
       "[]"
      ]
     },
     "execution_count": 42,
     "metadata": {},
     "output_type": "execute_result"
    }
   ],
   "source": [
    "a = es.search(index = 'idmov', doc_type = 'movie', body = {\n",
    "    \"query\": {\n",
    "        \"bool\" : {\n",
    "          \"must\" : {\n",
    "            \"term\" : { \"genre\" : \"drama\" }\n",
    "          },\n",
    "          \"filter\": {\n",
    "              \"term\": {\"star\": 5}\n",
    "          },\n",
    "          \"must_not\" : {\n",
    "              \"term\" : { \"auther\": \"kevin\" }\n",
    "                }\n",
    "          }\n",
    "        }\n",
    "})\n",
    "a['hits']['hits']"
   ]
  },
  {
   "cell_type": "code",
   "execution_count": 43,
   "metadata": {},
   "outputs": [
    {
     "data": {
      "text/plain": [
       "[{'_id': '2',\n",
       "  '_index': 'idmov',\n",
       "  '_score': 0.6931472,\n",
       "  '_source': {'auther': 'kevin',\n",
       "   'country': 'USA, England',\n",
       "   'describe': 'the journey on the atlantic ocean of Titanic ship',\n",
       "   'genre': [\"Children's\", 'drama'],\n",
       "   'movie': 'Titanic',\n",
       "   'star': 5,\n",
       "   'year_release': '2000'},\n",
       "  '_type': 'movie'}]"
      ]
     },
     "execution_count": 43,
     "metadata": {},
     "output_type": "execute_result"
    }
   ],
   "source": [
    "# should query : the clause (query) appear in the matching document\n",
    "a = es.search(index = 'idmov', doc_type = 'movie', body = {\n",
    "    \"query\":{\n",
    "        \"bool\": {\n",
    "            \"should\": {\n",
    "                \"term\": {\"auther\": \"kevin\"}\n",
    "            }\n",
    "        }\n",
    "    }\n",
    "})\n",
    "a['hits']['hits']"
   ]
  },
  {
   "cell_type": "code",
   "execution_count": 44,
   "metadata": {
    "scrolled": true
   },
   "outputs": [
    {
     "data": {
      "text/plain": [
       "2"
      ]
     },
     "execution_count": 44,
     "metadata": {},
     "output_type": "execute_result"
    }
   ],
   "source": [
    "a = es.search(index = 'idmov', doc_type = 'movie', body = {\n",
    "    \"query\":{\n",
    "        \"bool\": {\n",
    "            \"should\": [\n",
    "                {\"term\": {\"auther\": \"john\"}},\n",
    "                {\"term\": {\"auther\": \"max\"}}\n",
    "            ],\n",
    "            \"minimum_should_match\": 1,\n",
    "            \"boost\": 1.0\n",
    "        }\n",
    "    }\n",
    "})\n",
    "a['hits']['total']"
   ]
  },
  {
   "cell_type": "code",
   "execution_count": 45,
   "metadata": {},
   "outputs": [
    {
     "data": {
      "text/plain": [
       "[{'_id': '3',\n",
       "  '_index': 'idmov',\n",
       "  '_score': 0.2876821,\n",
       "  '_source': {'auther': 'Max',\n",
       "   'country': 'USA',\n",
       "   'describe': 'the story talk about Tony stark, a super hero',\n",
       "   'genre': ['drama', 'War'],\n",
       "   'movie': 'Iron Man',\n",
       "   'star': 3,\n",
       "   'year_release': '2010'},\n",
       "  '_type': 'movie'}]"
      ]
     },
     "execution_count": 45,
     "metadata": {},
     "output_type": "execute_result"
    }
   ],
   "source": [
    "a = es.search(index = 'idmov', doc_type = 'movie', body = {\n",
    "    \"query\": {\n",
    "        \"bool\" : {\n",
    "          \"must\" : {\n",
    "            \"term\" : { \"genre\" : \"drama\" }\n",
    "          },\n",
    "          \"filter\": {\n",
    "              \"term\": {\"star\": 3}\n",
    "          },\n",
    "          \"should\": {\n",
    "              \"term\":{\"country\": \"USA\"}\n",
    "          },\n",
    "          \"must_not\" : {\n",
    "              \"term\" : { \"auther\": \"kevin\" }\n",
    "                }\n",
    "          }\n",
    "        }\n",
    "})\n",
    "a['hits']['hits']"
   ]
  },
  {
   "cell_type": "code",
   "execution_count": 46,
   "metadata": {},
   "outputs": [
    {
     "data": {
      "text/plain": [
       "[{'_id': '3',\n",
       "  '_index': 'idmov',\n",
       "  '_score': 0.2876821,\n",
       "  '_source': {'auther': 'Max',\n",
       "   'country': 'USA',\n",
       "   'describe': 'the story talk about Tony stark, a super hero',\n",
       "   'genre': ['drama', 'War'],\n",
       "   'movie': 'Iron Man',\n",
       "   'star': 3,\n",
       "   'year_release': '2010'},\n",
       "  '_type': 'movie'}]"
      ]
     },
     "execution_count": 46,
     "metadata": {},
     "output_type": "execute_result"
    }
   ],
   "source": [
    "a = es.search(index = 'idmov', doc_type = 'movie', body = {\n",
    "    \"query\": {\n",
    "        \"bool\" : {\n",
    "          \"must\" : {\n",
    "            \"term\" : { \"genre\" : \"drama\" }\n",
    "          },\n",
    "          \"filter\": {\n",
    "              \"term\": {\"star\": 3}\n",
    "          },\n",
    "          \"should\": {\n",
    "              \"term\":{\"country\": \"Japan\"}\n",
    "          },\n",
    "          \"must_not\" : {\n",
    "              \"term\" : { \"auther\": \"kevin\" }\n",
    "                }\n",
    "          }\n",
    "        }\n",
    "})\n",
    "a['hits']['hits']"
   ]
  },
  {
   "cell_type": "code",
   "execution_count": 47,
   "metadata": {
    "scrolled": true
   },
   "outputs": [
    {
     "data": {
      "text/plain": [
       "[{'_id': '3',\n",
       "  '_index': 'idmov',\n",
       "  '_score': 0.5753642,\n",
       "  '_source': {'auther': 'Max',\n",
       "   'country': 'USA',\n",
       "   'describe': 'the story talk about Tony stark, a super hero',\n",
       "   'genre': ['drama', 'War'],\n",
       "   'movie': 'Iron Man',\n",
       "   'star': 3,\n",
       "   'year_release': '2010'},\n",
       "  '_type': 'movie'}]"
      ]
     },
     "execution_count": 47,
     "metadata": {},
     "output_type": "execute_result"
    }
   ],
   "source": [
    "a = es.search(index = 'idmov', doc_type = 'movie', body = {\n",
    "    \"query\": {\n",
    "        \"bool\" : {\n",
    "          \"must\" : {\n",
    "            \"term\" : { \"genre\" : \"drama\" }\n",
    "          },\n",
    "          \"filter\": {\n",
    "              \"term\": {\"star\": 3}\n",
    "          },\n",
    "          \"must_not\" : {\n",
    "              \"term\" : { \"auther\": \"kevin\" }\n",
    "                },\n",
    "          \"should\": [\n",
    "                {\"term\": {\"auther\": \"john\"}},\n",
    "                {\"term\": {\"auther\": \"max\"}}\n",
    "            ],\n",
    "            \"minimum_should_match\": 1,\n",
    "            \"boost\": 1.0\n",
    "          }\n",
    "        }\n",
    "})\n",
    "a['hits']['hits']"
   ]
  },
  {
   "cell_type": "markdown",
   "metadata": {},
   "source": [
    "# range query \n",
    "+ matches documents with fields that have terms within a certain range . \n",
    "+ num/ date fields"
   ]
  },
  {
   "cell_type": "code",
   "execution_count": 48,
   "metadata": {},
   "outputs": [
    {
     "data": {
      "text/plain": [
       "[]"
      ]
     },
     "execution_count": 48,
     "metadata": {},
     "output_type": "execute_result"
    }
   ],
   "source": [
    "a = es.search(index = 'idmov', doc_type = 'movie', body = {\n",
    "    \"query\": {\n",
    "        \"range\": {\n",
    "            \"star\" :{ \"gt\": 4, \"lt\": 5}\n",
    "        }\n",
    "    }\n",
    "})\n",
    "a['hits']['hits']"
   ]
  },
  {
   "cell_type": "code",
   "execution_count": 49,
   "metadata": {
    "scrolled": true
   },
   "outputs": [
    {
     "data": {
      "text/plain": [
       "[{'_id': '2',\n",
       "  '_index': 'idmov',\n",
       "  '_score': 1.0,\n",
       "  '_source': {'auther': 'kevin',\n",
       "   'country': 'USA, England',\n",
       "   'describe': 'the journey on the atlantic ocean of Titanic ship',\n",
       "   'genre': [\"Children's\", 'drama'],\n",
       "   'movie': 'Titanic',\n",
       "   'star': 5,\n",
       "   'year_release': '2000'},\n",
       "  '_type': 'movie'},\n",
       " {'_id': '4',\n",
       "  '_index': 'idmov',\n",
       "  '_score': 1.0,\n",
       "  '_source': {'auther': 'Kimito',\n",
       "   'country': 'Japan',\n",
       "   'describe': 'talk the journe to become a super ninja of Naruto',\n",
       "   'genre': ['Animation', 'War'],\n",
       "   'movie': 'Naruto',\n",
       "   'star': 4,\n",
       "   'year_release': '1998'},\n",
       "  '_type': 'movie'},\n",
       " {'_id': '3',\n",
       "  '_index': 'idmov',\n",
       "  '_score': 1.0,\n",
       "  '_source': {'auther': 'Max',\n",
       "   'country': 'USA',\n",
       "   'describe': 'the story talk about Tony stark, a super hero',\n",
       "   'genre': ['drama', 'War'],\n",
       "   'movie': 'Iron Man',\n",
       "   'star': 3,\n",
       "   'year_release': '2010'},\n",
       "  '_type': 'movie'}]"
      ]
     },
     "execution_count": 49,
     "metadata": {},
     "output_type": "execute_result"
    }
   ],
   "source": [
    "a = es.search(index = 'idmov', doc_type = 'movie', body = {\n",
    "    \"query\": {\n",
    "        \"range\": {\n",
    "            \"star\" :{ \"gte\": 3, \"lte\": 5}\n",
    "        }\n",
    "    }\n",
    "})\n",
    "a['hits']['hits']"
   ]
  },
  {
   "cell_type": "code",
   "execution_count": 50,
   "metadata": {
    "scrolled": true
   },
   "outputs": [
    {
     "data": {
      "text/plain": [
       "[{'_id': '2',\n",
       "  '_index': 'idmov',\n",
       "  '_score': 2.0,\n",
       "  '_source': {'auther': 'kevin',\n",
       "   'country': 'USA, England',\n",
       "   'describe': 'the journey on the atlantic ocean of Titanic ship',\n",
       "   'genre': [\"Children's\", 'drama'],\n",
       "   'movie': 'Titanic',\n",
       "   'star': 5,\n",
       "   'year_release': '2000'},\n",
       "  '_type': 'movie'},\n",
       " {'_id': '4',\n",
       "  '_index': 'idmov',\n",
       "  '_score': 2.0,\n",
       "  '_source': {'auther': 'Kimito',\n",
       "   'country': 'Japan',\n",
       "   'describe': 'talk the journe to become a super ninja of Naruto',\n",
       "   'genre': ['Animation', 'War'],\n",
       "   'movie': 'Naruto',\n",
       "   'star': 4,\n",
       "   'year_release': '1998'},\n",
       "  '_type': 'movie'}]"
      ]
     },
     "execution_count": 50,
     "metadata": {},
     "output_type": "execute_result"
    }
   ],
   "source": [
    "a = es.search(index = 'idmov', doc_type = 'movie', body = {\n",
    "    \"query\": {\n",
    "        \"range\": {\n",
    "            \"star\" :{ \"gte\": 4, \"lte\": 5, \"boost\": 2.0}\n",
    "        }\n",
    "    }\n",
    "})\n",
    "a['hits']['hits']"
   ]
  },
  {
   "cell_type": "markdown",
   "metadata": {},
   "source": [
    "# Query string\n",
    "+ query string provide the queries : multi_match, bool, boosting, fuzzy matching, wildcards, regexp, range queries\n"
   ]
  },
  {
   "cell_type": "code",
   "execution_count": 51,
   "metadata": {},
   "outputs": [
    {
     "data": {
      "text/plain": [
       "4"
      ]
     },
     "execution_count": 51,
     "metadata": {},
     "output_type": "execute_result"
    }
   ],
   "source": [
    "a2 = es.search(index = 'idmov', doc_type = \"movie\", body = {\n",
    "    \"query\":{\n",
    "        \"query_string\":{\n",
    "            \"default_field\": \"describe\",\n",
    "            \"query\": \"the jour of the Tony\"\n",
    "        }\n",
    "    }\n",
    "})\n",
    "a2['hits']['total']"
   ]
  },
  {
   "cell_type": "code",
   "execution_count": 52,
   "metadata": {
    "scrolled": true
   },
   "outputs": [
    {
     "data": {
      "text/plain": [
       "[{'_id': '4',\n",
       "  '_index': 'idmov',\n",
       "  '_score': 0.6785375,\n",
       "  '_source': {'auther': 'Kimito',\n",
       "   'country': 'Japan',\n",
       "   'describe': 'talk the journe to become a super ninja of Naruto',\n",
       "   'genre': ['Animation', 'War'],\n",
       "   'movie': 'Naruto',\n",
       "   'star': 4,\n",
       "   'year_release': '1998'},\n",
       "  '_type': 'movie'}]"
      ]
     },
     "execution_count": 52,
     "metadata": {},
     "output_type": "execute_result"
    }
   ],
   "source": [
    "# controlling analysis : query string query\n",
    "# Analyzer : is used the document standard, and make :\n",
    "# character filters: preprocessing input data\n",
    "# tokenizer: then string is cleared by \"character filter\", the make filter of tokenizer (we is define)\n",
    "# tokenizer filter: the each term go thought tokenizer filter, the will clear (ex: remove the html characters , covert character\n",
    "a2 = es.search(index = 'idmov', doc_type = \"movie\", body = {\n",
    "    \"query\":{\n",
    "        \"query_string\":{\n",
    "            \"default_field\": \"describe\",\n",
    "            \"query\": \"journe is nin\"\n",
    "        }\n",
    "    }\n",
    "})\n",
    "a2['hits']['hits']"
   ]
  },
  {
   "cell_type": "code",
   "execution_count": 53,
   "metadata": {},
   "outputs": [
    {
     "data": {
      "text/plain": [
       "[{'_id': '4',\n",
       "  '_index': 'idmov',\n",
       "  '_score': 0.6785375,\n",
       "  '_source': {'auther': 'Kimito',\n",
       "   'country': 'Japan',\n",
       "   'describe': 'talk the journe to become a super ninja of Naruto',\n",
       "   'genre': ['Animation', 'War'],\n",
       "   'movie': 'Naruto',\n",
       "   'star': 4,\n",
       "   'year_release': '1998'},\n",
       "  '_type': 'movie'},\n",
       " {'_id': '3',\n",
       "  '_index': 'idmov',\n",
       "  '_score': 0.2876821,\n",
       "  '_source': {'auther': 'Max',\n",
       "   'country': 'USA',\n",
       "   'describe': 'the story talk about Tony stark, a super hero',\n",
       "   'genre': ['drama', 'War'],\n",
       "   'movie': 'Iron Man',\n",
       "   'star': 3,\n",
       "   'year_release': '2010'},\n",
       "  '_type': 'movie'}]"
      ]
     },
     "execution_count": 53,
     "metadata": {},
     "output_type": "execute_result"
    }
   ],
   "source": [
    "a2 = es.search(index = 'idmov', doc_type = \"movie\", body = {\n",
    "    \"query\":{\n",
    "        \"query_string\":{\n",
    "            \"default_field\": \"describe\",\n",
    "            \"query\": \"journe is stark\"\n",
    "        }\n",
    "    }\n",
    "})\n",
    "a2['hits']['hits']"
   ]
  },
  {
   "cell_type": "markdown",
   "metadata": {},
   "source": [
    "# Zero term query"
   ]
  },
  {
   "cell_type": "code",
   "execution_count": 54,
   "metadata": {},
   "outputs": [],
   "source": [
    "a_3 = es.search(index = 'idmov', doc_type = 'movie', body = {\n",
    "    \"query\": {\n",
    "        \"match\" : {\n",
    "            \"describe\" : {\n",
    "                \"query\" : \"the journe of\",\n",
    "                \"operator\" : \"and\",\n",
    "                \"zero_terms_query\": \"all\"\n",
    "            }\n",
    "        }\n",
    "    }\n",
    "})"
   ]
  },
  {
   "cell_type": "code",
   "execution_count": 55,
   "metadata": {},
   "outputs": [
    {
     "data": {
      "text/plain": [
       "{'_shards': {'failed': 0, 'skipped': 0, 'successful': 5, 'total': 5},\n",
       " 'hits': {'hits': [{'_id': '4',\n",
       "    '_index': 'idmov',\n",
       "    '_score': 1.0354949,\n",
       "    '_source': {'auther': 'Kimito',\n",
       "     'country': 'Japan',\n",
       "     'describe': 'talk the journe to become a super ninja of Naruto',\n",
       "     'genre': ['Animation', 'War'],\n",
       "     'movie': 'Naruto',\n",
       "     'star': 4,\n",
       "     'year_release': '1998'},\n",
       "    '_type': 'movie'}],\n",
       "  'max_score': 1.0354949,\n",
       "  'total': 1},\n",
       " 'timed_out': False,\n",
       " 'took': 6}"
      ]
     },
     "execution_count": 55,
     "metadata": {},
     "output_type": "execute_result"
    }
   ],
   "source": [
    "a_3"
   ]
  },
  {
   "cell_type": "code",
   "execution_count": 56,
   "metadata": {
    "scrolled": true
   },
   "outputs": [
    {
     "data": {
      "text/plain": [
       "{'_shards': {'failed': 0, 'skipped': 0, 'successful': 5, 'total': 5},\n",
       " 'hits': {'hits': [{'_id': '4',\n",
       "    '_index': 'idmov',\n",
       "    '_score': 1.0354949,\n",
       "    '_source': {'auther': 'Kimito',\n",
       "     'country': 'Japan',\n",
       "     'describe': 'talk the journe to become a super ninja of Naruto',\n",
       "     'genre': ['Animation', 'War'],\n",
       "     'movie': 'Naruto',\n",
       "     'star': 4,\n",
       "     'year_release': '1998'},\n",
       "    '_type': 'movie'},\n",
       "   {'_id': '1',\n",
       "    '_index': 'idmov',\n",
       "    '_score': 0.5753642,\n",
       "    '_source': {'auther': 'john',\n",
       "     'country': 'USA, Canada',\n",
       "     'describe': 'the love story of Linda and Jub',\n",
       "     'genre': ['Animation', \"Children's\", 'Comedy'],\n",
       "     'movie': 'Toy Story',\n",
       "     'star': 2,\n",
       "     'year_release': '1995'},\n",
       "    '_type': 'movie'},\n",
       "   {'_id': '2',\n",
       "    '_index': 'idmov',\n",
       "    '_score': 0.44079232,\n",
       "    '_source': {'auther': 'kevin',\n",
       "     'country': 'USA, England',\n",
       "     'describe': 'the journey on the atlantic ocean of Titanic ship',\n",
       "     'genre': [\"Children's\", 'drama'],\n",
       "     'movie': 'Titanic',\n",
       "     'star': 5,\n",
       "     'year_release': '2000'},\n",
       "    '_type': 'movie'},\n",
       "   {'_id': '3',\n",
       "    '_index': 'idmov',\n",
       "    '_score': 0.2876821,\n",
       "    '_source': {'auther': 'Max',\n",
       "     'country': 'USA',\n",
       "     'describe': 'the story talk about Tony stark, a super hero',\n",
       "     'genre': ['drama', 'War'],\n",
       "     'movie': 'Iron Man',\n",
       "     'star': 3,\n",
       "     'year_release': '2010'},\n",
       "    '_type': 'movie'}],\n",
       "  'max_score': 1.0354949,\n",
       "  'total': 4},\n",
       " 'timed_out': False,\n",
       " 'took': 231}"
      ]
     },
     "execution_count": 56,
     "metadata": {},
     "output_type": "execute_result"
    }
   ],
   "source": [
    "a_3 = es.search(index = 'idmov', doc_type = 'movie', body = {\n",
    "    \"query\": {\n",
    "        \"match\" : {\n",
    "            \"describe\" : {\n",
    "                \"query\" : \"the journe of\",\n",
    "                \"operator\" : \"or\",\n",
    "                \"zero_terms_query\": \"all\"\n",
    "            }\n",
    "        }\n",
    "    }\n",
    "})\n",
    "a_3"
   ]
  },
  {
   "cell_type": "code",
   "execution_count": 57,
   "metadata": {
    "scrolled": true
   },
   "outputs": [
    {
     "data": {
      "text/plain": [
       "{'_shards': {'failed': 0, 'skipped': 0, 'successful': 5, 'total': 5},\n",
       " 'hits': {'hits': [{'_id': '4',\n",
       "    '_index': 'idmov',\n",
       "    '_score': 1.0354949,\n",
       "    '_source': {'auther': 'Kimito',\n",
       "     'country': 'Japan',\n",
       "     'describe': 'talk the journe to become a super ninja of Naruto',\n",
       "     'genre': ['Animation', 'War'],\n",
       "     'movie': 'Naruto',\n",
       "     'star': 4,\n",
       "     'year_release': '1998'},\n",
       "    '_type': 'movie'},\n",
       "   {'_id': '1',\n",
       "    '_index': 'idmov',\n",
       "    '_score': 0.5753642,\n",
       "    '_source': {'auther': 'john',\n",
       "     'country': 'USA, Canada',\n",
       "     'describe': 'the love story of Linda and Jub',\n",
       "     'genre': ['Animation', \"Children's\", 'Comedy'],\n",
       "     'movie': 'Toy Story',\n",
       "     'star': 2,\n",
       "     'year_release': '1995'},\n",
       "    '_type': 'movie'},\n",
       "   {'_id': '2',\n",
       "    '_index': 'idmov',\n",
       "    '_score': 0.44079232,\n",
       "    '_source': {'auther': 'kevin',\n",
       "     'country': 'USA, England',\n",
       "     'describe': 'the journey on the atlantic ocean of Titanic ship',\n",
       "     'genre': [\"Children's\", 'drama'],\n",
       "     'movie': 'Titanic',\n",
       "     'star': 5,\n",
       "     'year_release': '2000'},\n",
       "    '_type': 'movie'},\n",
       "   {'_id': '3',\n",
       "    '_index': 'idmov',\n",
       "    '_score': 0.2876821,\n",
       "    '_source': {'auther': 'Max',\n",
       "     'country': 'USA',\n",
       "     'describe': 'the story talk about Tony stark, a super hero',\n",
       "     'genre': ['drama', 'War'],\n",
       "     'movie': 'Iron Man',\n",
       "     'star': 3,\n",
       "     'year_release': '2010'},\n",
       "    '_type': 'movie'}],\n",
       "  'max_score': 1.0354949,\n",
       "  'total': 4},\n",
       " 'timed_out': False,\n",
       " 'took': 196}"
      ]
     },
     "execution_count": 57,
     "metadata": {},
     "output_type": "execute_result"
    }
   ],
   "source": [
    "a_3 = es.search(index = 'idmov', doc_type = 'movie', body = {\n",
    "    \"query\": {\n",
    "        \"match\" : {\n",
    "            \"describe\" : {\n",
    "                \"query\" : \"the journe of\",\n",
    "                \"zero_terms_query\": \"all\"\n",
    "            }\n",
    "        }\n",
    "    }\n",
    "})\n",
    "a_3"
   ]
  },
  {
   "cell_type": "markdown",
   "metadata": {},
   "source": [
    "# constant score query\n",
    "+ a query wraps another query and simply returns a constant score equal to the query boost for every document in the filter\n",
    "+ return the matches documents to have the score is equal"
   ]
  },
  {
   "cell_type": "code",
   "execution_count": 58,
   "metadata": {},
   "outputs": [
    {
     "data": {
      "text/plain": [
       "[]"
      ]
     },
     "execution_count": 58,
     "metadata": {},
     "output_type": "execute_result"
    }
   ],
   "source": [
    "a = es.search(index = 'idmov', doc_type = 'movie', body = {\n",
    "    \"query\": {\n",
    "        \"constant_score\": {\n",
    "            \"filter\":{\n",
    "                \"term\" : {\"describe\": \"the journe\"}\n",
    "            }\n",
    "        }\n",
    "    }\n",
    "})\n",
    "a['hits']['hits']"
   ]
  },
  {
   "cell_type": "code",
   "execution_count": 59,
   "metadata": {
    "scrolled": true
   },
   "outputs": [
    {
     "data": {
      "text/plain": [
       "[{'_id': '2',\n",
       "  '_index': 'idmov',\n",
       "  '_score': 1.0,\n",
       "  '_source': {'auther': 'kevin',\n",
       "   'country': 'USA, England',\n",
       "   'describe': 'the journey on the atlantic ocean of Titanic ship',\n",
       "   'genre': [\"Children's\", 'drama'],\n",
       "   'movie': 'Titanic',\n",
       "   'star': 5,\n",
       "   'year_release': '2000'},\n",
       "  '_type': 'movie'},\n",
       " {'_id': '3',\n",
       "  '_index': 'idmov',\n",
       "  '_score': 1.0,\n",
       "  '_source': {'auther': 'Max',\n",
       "   'country': 'USA',\n",
       "   'describe': 'the story talk about Tony stark, a super hero',\n",
       "   'genre': ['drama', 'War'],\n",
       "   'movie': 'Iron Man',\n",
       "   'star': 3,\n",
       "   'year_release': '2010'},\n",
       "  '_type': 'movie'}]"
      ]
     },
     "execution_count": 59,
     "metadata": {},
     "output_type": "execute_result"
    }
   ],
   "source": [
    "a = es.search(index = 'idmov', doc_type = 'movie', body = {\n",
    "    \"query\": {\n",
    "        \"constant_score\": {\n",
    "            \"filter\":{\n",
    "                \"term\" : {\"genre\": \"drama\"}\n",
    "            }\n",
    "        }\n",
    "    }\n",
    "})\n",
    "a['hits']['hits']"
   ]
  },
  {
   "cell_type": "code",
   "execution_count": 60,
   "metadata": {},
   "outputs": [
    {
     "data": {
      "text/plain": [
       "[{'_id': '2',\n",
       "  '_index': 'idmov',\n",
       "  '_score': 1.2,\n",
       "  '_source': {'auther': 'kevin',\n",
       "   'country': 'USA, England',\n",
       "   'describe': 'the journey on the atlantic ocean of Titanic ship',\n",
       "   'genre': [\"Children's\", 'drama'],\n",
       "   'movie': 'Titanic',\n",
       "   'star': 5,\n",
       "   'year_release': '2000'},\n",
       "  '_type': 'movie'},\n",
       " {'_id': '3',\n",
       "  '_index': 'idmov',\n",
       "  '_score': 1.2,\n",
       "  '_source': {'auther': 'Max',\n",
       "   'country': 'USA',\n",
       "   'describe': 'the story talk about Tony stark, a super hero',\n",
       "   'genre': ['drama', 'War'],\n",
       "   'movie': 'Iron Man',\n",
       "   'star': 3,\n",
       "   'year_release': '2010'},\n",
       "  '_type': 'movie'}]"
      ]
     },
     "execution_count": 60,
     "metadata": {},
     "output_type": "execute_result"
    }
   ],
   "source": [
    "a = es.search(index = 'idmov', doc_type = 'movie', body = {\n",
    "    \"query\": {\n",
    "        \"constant_score\": {\n",
    "            \"filter\":{\n",
    "                \"term\" : {\"genre\": \"drama\"}\n",
    "            },\n",
    "            \"boost\": 1.2\n",
    "        }\n",
    "    }\n",
    "})\n",
    "a['hits']['hits']"
   ]
  },
  {
   "cell_type": "markdown",
   "metadata": {},
   "source": [
    "# function_score\n",
    "+ the function_score allows you modify the score of document that are retrieved by a query"
   ]
  },
  {
   "cell_type": "code",
   "execution_count": 61,
   "metadata": {
    "scrolled": true
   },
   "outputs": [
    {
     "data": {
      "text/plain": [
       "[{'_id': '2',\n",
       "  '_index': 'idmov',\n",
       "  '_score': 4.5888333,\n",
       "  '_source': {'auther': 'kevin',\n",
       "   'country': 'USA, England',\n",
       "   'describe': 'the journey on the atlantic ocean of Titanic ship',\n",
       "   'genre': [\"Children's\", 'drama'],\n",
       "   'movie': 'Titanic',\n",
       "   'star': 5,\n",
       "   'year_release': '2000'},\n",
       "  '_type': 'movie'},\n",
       " {'_id': '4',\n",
       "  '_index': 'idmov',\n",
       "  '_score': 4.284919,\n",
       "  '_source': {'auther': 'Kimito',\n",
       "   'country': 'Japan',\n",
       "   'describe': 'talk the journe to become a super ninja of Naruto',\n",
       "   'genre': ['Animation', 'War'],\n",
       "   'movie': 'Naruto',\n",
       "   'star': 4,\n",
       "   'year_release': '1998'},\n",
       "  '_type': 'movie'},\n",
       " {'_id': '1',\n",
       "  '_index': 'idmov',\n",
       "  '_score': 3.6389053,\n",
       "  '_source': {'auther': 'john',\n",
       "   'country': 'USA, Canada',\n",
       "   'describe': 'the love story of Linda and Jub',\n",
       "   'genre': ['Animation', \"Children's\", 'Comedy'],\n",
       "   'movie': 'Toy Story',\n",
       "   'star': 2,\n",
       "   'year_release': '1995'},\n",
       "  '_type': 'movie'},\n",
       " {'_id': '3',\n",
       "  '_index': 'idmov',\n",
       "  '_score': 2.3637059,\n",
       "  '_source': {'auther': 'Max',\n",
       "   'country': 'USA',\n",
       "   'describe': 'the story talk about Tony stark, a super hero',\n",
       "   'genre': ['drama', 'War'],\n",
       "   'movie': 'Iron Man',\n",
       "   'star': 3,\n",
       "   'year_release': '2010'},\n",
       "  '_type': 'movie'}]"
      ]
     },
     "execution_count": 61,
     "metadata": {},
     "output_type": "execute_result"
    }
   ],
   "source": [
    "a = es.search(index = 'idmov', doc_type= 'movie', body = {\n",
    "    \"query\": {\n",
    "        \"function_score\":{\n",
    "            \"query\": {\"match_all\": {}},\n",
    "            \"boost\": \"5\",\n",
    "            \"random_score\": {},\n",
    "            \"boost_mode\": \"multiply\"\n",
    "        }\n",
    "    }\n",
    "})\n",
    "a['hits']['hits']"
   ]
  },
  {
   "cell_type": "code",
   "execution_count": 62,
   "metadata": {
    "scrolled": true
   },
   "outputs": [
    {
     "data": {
      "text/plain": [
       "[{'_id': '2',\n",
       "  '_index': 'idmov',\n",
       "  '_score': 210.0,\n",
       "  '_source': {'auther': 'kevin',\n",
       "   'country': 'USA, England',\n",
       "   'describe': 'the journey on the atlantic ocean of Titanic ship',\n",
       "   'genre': [\"Children's\", 'drama'],\n",
       "   'movie': 'Titanic',\n",
       "   'star': 5,\n",
       "   'year_release': '2000'},\n",
       "  '_type': 'movie'},\n",
       " {'_id': '4',\n",
       "  '_index': 'idmov',\n",
       "  '_score': 210.0,\n",
       "  '_source': {'auther': 'Kimito',\n",
       "   'country': 'Japan',\n",
       "   'describe': 'talk the journe to become a super ninja of Naruto',\n",
       "   'genre': ['Animation', 'War'],\n",
       "   'movie': 'Naruto',\n",
       "   'star': 4,\n",
       "   'year_release': '1998'},\n",
       "  '_type': 'movie'},\n",
       " {'_id': '1',\n",
       "  '_index': 'idmov',\n",
       "  '_score': 210.0,\n",
       "  '_source': {'auther': 'john',\n",
       "   'country': 'USA, Canada',\n",
       "   'describe': 'the love story of Linda and Jub',\n",
       "   'genre': ['Animation', \"Children's\", 'Comedy'],\n",
       "   'movie': 'Toy Story',\n",
       "   'star': 2,\n",
       "   'year_release': '1995'},\n",
       "  '_type': 'movie'},\n",
       " {'_id': '3',\n",
       "  '_index': 'idmov',\n",
       "  '_score': 210.0,\n",
       "  '_source': {'auther': 'Max',\n",
       "   'country': 'USA',\n",
       "   'describe': 'the story talk about Tony stark, a super hero',\n",
       "   'genre': ['drama', 'War'],\n",
       "   'movie': 'Iron Man',\n",
       "   'star': 3,\n",
       "   'year_release': '2010'},\n",
       "  '_type': 'movie'}]"
      ]
     },
     "execution_count": 62,
     "metadata": {},
     "output_type": "execute_result"
    }
   ],
   "source": [
    "a = es.search(index = 'idmov', doc_type= 'movie', body = {\n",
    "    \"query\": {\n",
    "        \"function_score\": {\n",
    "          \"query\": { \"match_all\": {} },\n",
    "          \"boost\": \"5\", \n",
    "          \"functions\": [\n",
    "              {\n",
    "                  \"filter\": { \"match\": { \"describe\": \"the jounre\" } },\n",
    "                  \"random_score\": {}, \n",
    "                  \"weight\": 23\n",
    "              },\n",
    "              {\n",
    "                  \"filter\": { \"match\": { \"describe\": \"the story\" } },\n",
    "                  \"weight\": 42\n",
    "              }\n",
    "          ],\n",
    "          \"max_boost\": 42,\n",
    "          \"score_mode\": \"max\",\n",
    "          \"boost_mode\": \"multiply\",\n",
    "          \"min_score\" : 42\n",
    "        }\n",
    "    }\n",
    "})\n",
    "a['hits']['hits']"
   ]
  },
  {
   "cell_type": "markdown",
   "metadata": {},
   "source": [
    "# delete index"
   ]
  },
  {
   "cell_type": "code",
   "execution_count": 66,
   "metadata": {
    "scrolled": true
   },
   "outputs": [],
   "source": [
    "for i in range(1, len(e_dict)+1):\n",
    "    res = es.delete(index = 'idmov', doc_type = 'movie', id = int(i))"
   ]
  },
  {
   "cell_type": "code",
   "execution_count": null,
   "metadata": {},
   "outputs": [],
   "source": []
  }
 ],
 "metadata": {
  "kernelspec": {
   "display_name": "Python 3",
   "language": "python",
   "name": "python3"
  },
  "language_info": {
   "codemirror_mode": {
    "name": "ipython",
    "version": 3
   },
   "file_extension": ".py",
   "mimetype": "text/x-python",
   "name": "python",
   "nbconvert_exporter": "python",
   "pygments_lexer": "ipython3",
   "version": "3.6.4"
  }
 },
 "nbformat": 4,
 "nbformat_minor": 2
}
