{
 "cells": [
  {
   "cell_type": "code",
   "execution_count": null,
   "metadata": {},
   "outputs": [],
   "source": [
    "from elasticsearch import Elasticsearch, RequestsHttpConnection, helpers"
   ]
  },
  {
   "cell_type": "code",
   "execution_count": null,
   "metadata": {},
   "outputs": [],
   "source": [
    "import pandas as pd\n",
    "import numpy as np"
   ]
  },
  {
   "cell_type": "code",
   "execution_count": null,
   "metadata": {},
   "outputs": [],
   "source": [
    "# connect to the elasticsearch cluster\n",
    "es=Elasticsearch([{'host':'localhost','port':9200}], timeout = 300)"
   ]
  },
  {
   "cell_type": "markdown",
   "metadata": {},
   "source": [
    "# create the index"
   ]
  },
  {
   "cell_type": "code",
   "execution_count": null,
   "metadata": {},
   "outputs": [],
   "source": [
    "# create the index, use similarity function DFR\n",
    "request_body = {\n",
    "   \"settings\" : {\n",
    "        \"number_of_shards\": 5,\n",
    "        \"number_of_replicas\": 1,\n",
    "       \"index\" : {\n",
    "            \"similarity\" : {\n",
    "                # similarity function : DFR\n",
    "              \"my_similarity\" : {\n",
    "                \"type\" : \"DFR\",\n",
    "                \"basic_model\" : \"g\",\n",
    "                \"after_effect\" : \"l\",\n",
    "                \"normalization\" : \"h2\",\n",
    "                \"normalization.h2.c\" : \"3.0\"\n",
    "              },\n",
    "                # similarity function : BM25 (b, k default)\n",
    "                 \"my_similarity_bm25\" : {\n",
    "                \"type\" : \"BM25\"\n",
    "              },\n",
    "                # similarity function :  default\n",
    "                \"my_similarity_default\": {\n",
    "                  \"type\": \"boolean\"\n",
    "                    }\n",
    "            }\n",
    "        }\n",
    "       \n",
    "    },\n",
    "\n",
    "    'mappings': {\n",
    "        'examplecase': {\n",
    "            'properties': {\n",
    "                # setup type of fields, and call the similarity to the fields\n",
    "                'pk': {'type': 'text',  \"similarity\" : \"my_similarity\"},\n",
    "                'name': {'type': 'text',  \"similarity\" : \"my_similarity\"},\n",
    "                # if in this field, we call similarity function : default (option, we can use other similarity function)\n",
    "                'date_of_birth': {'format': 'dateOptionalTime', 'type': 'date',  \"similarity\" : \"my_similarity_default\"},\n",
    "                # if in this field, we call similarity function: bm25\n",
    "                'about': { 'type': 'text',  \"similarity\" : \"my_similarity_bm25\"},\n",
    "                'interests': {'type': 'text',  \"similarity\" : \"my_similarity\"},\n",
    "            }}}\n",
    "}"
   ]
  },
  {
   "cell_type": "code",
   "execution_count": null,
   "metadata": {},
   "outputs": [],
   "source": [
    "es.indices.create(index = 'new_idx', body = request_body)"
   ]
  },
  {
   "cell_type": "code",
   "execution_count": null,
   "metadata": {},
   "outputs": [],
   "source": [
    "# delete: index\n",
    "#es.indices.delete(index = 'new_idx')"
   ]
  },
  {
   "cell_type": "markdown",
   "metadata": {},
   "source": [
    "# prepare data"
   ]
  },
  {
   "cell_type": "code",
   "execution_count": null,
   "metadata": {},
   "outputs": [],
   "source": [
    "df = pd.DataFrame(index= range(0, 4))"
   ]
  },
  {
   "cell_type": "code",
   "execution_count": null,
   "metadata": {},
   "outputs": [],
   "source": [
    "df['pk'] = [\"01\", \"02\", \"03\", \"04\"]\n",
    "df['name'] = [\"hoang an\", \"nguyen ha\", \"Tran nam\", \"trong tuan\"]\n",
    "df['about'] = [\"Love to play guitar\", \"I like to collect rock albums\", \"I like to love the dog\", \"Love to play football\"]\n",
    "df['interests'] = [[\"sports\",\"music\"], [\"music\", \"reading story\", \"watching anime\", \"traveling\"], [ \"traveling\", \"shopping\", \"watching drama\" ], [\"sports\", \"music\"]]"
   ]
  },
  {
   "cell_type": "code",
   "execution_count": null,
   "metadata": {},
   "outputs": [],
   "source": [
    "df"
   ]
  },
  {
   "cell_type": "code",
   "execution_count": null,
   "metadata": {},
   "outputs": [],
   "source": [
    "bulk_data = []\n",
    "for index, row in df.iterrows():\n",
    "    #print(index)\n",
    "    #print(row)\n",
    "    \n",
    "    #print(len(row))\n",
    "\n",
    "    data_dict = {\n",
    "        \"_index\": \"new_idx\",\n",
    "        \"_type\": \"examplecase\",\n",
    "        \"_id\": df.loc[index, \"pk\"],\n",
    "        \"_source\": {\n",
    "            \"pk\": df.loc[index, \"pk\"],\n",
    "            \"name\": df.loc[index, \"name\"],\n",
    "            \"about\": df.loc[index, \"about\"],\n",
    "            \"interest\": df.loc[index, \"interests\"]\n",
    "        }\n",
    "    }\n",
    "    bulk_data.append(data_dict)\n",
    "        "
   ]
  },
  {
   "cell_type": "code",
   "execution_count": null,
   "metadata": {
    "scrolled": true
   },
   "outputs": [],
   "source": [
    "bulk_data"
   ]
  },
  {
   "cell_type": "markdown",
   "metadata": {},
   "source": [
    "# insert data"
   ]
  },
  {
   "cell_type": "code",
   "execution_count": null,
   "metadata": {},
   "outputs": [],
   "source": [
    "# the way 1\n",
    "res = helpers.bulk(es, bulk_data)\n",
    "# the way 2\n",
    "#res = es.bulk(index = 'new_idx', body = bulk_data)"
   ]
  },
  {
   "cell_type": "code",
   "execution_count": null,
   "metadata": {},
   "outputs": [],
   "source": [
    "res"
   ]
  },
  {
   "cell_type": "code",
   "execution_count": null,
   "metadata": {},
   "outputs": [],
   "source": [
    "es.indices.refresh(index = 'new_idx')"
   ]
  },
  {
   "cell_type": "markdown",
   "metadata": {},
   "source": [
    "# search data"
   ]
  },
  {
   "cell_type": "code",
   "execution_count": null,
   "metadata": {
    "scrolled": true
   },
   "outputs": [],
   "source": [
    "es.search(body={\"query\": {\"match_all\": {}}}, index = 'new_idx')"
   ]
  },
  {
   "cell_type": "code",
   "execution_count": null,
   "metadata": {},
   "outputs": [],
   "source": [
    "es.indices.get_mapping(index = 'new_idx')"
   ]
  },
  {
   "cell_type": "code",
   "execution_count": null,
   "metadata": {},
   "outputs": [],
   "source": [
    "es.search(index = 'new_idx', body = {\n",
    "    \"query\": {\n",
    "        \"match\": {\n",
    "            \"about\": \"like\"\n",
    "        }\n",
    "    }\n",
    "})"
   ]
  },
  {
   "cell_type": "code",
   "execution_count": null,
   "metadata": {},
   "outputs": [],
   "source": [
    "es.search(index = 'new_idx', body = {\n",
    "    \"query\": {\n",
    "        \"bool\":{\n",
    "            \"must\":{\"match\": {\n",
    "            \"about\": \"like\"\n",
    "        }}}\n",
    "    }\n",
    "})"
   ]
  },
  {
   "cell_type": "code",
   "execution_count": null,
   "metadata": {},
   "outputs": [],
   "source": [
    "es.search(index = 'new_idx', body = {\n",
    "    \"query\": {\n",
    "        \"bool\":{\n",
    "            \"must\":{\"match\": {\n",
    "            \"about\": \"like\"\n",
    "        }},\n",
    "        \"must_not\":{\n",
    "            \"match\" :{\n",
    "                \"about\": \" \".join([\"collect\", \"rock\", \"music\"])}\n",
    "        }}\n",
    "    }\n",
    "})"
   ]
  },
  {
   "cell_type": "code",
   "execution_count": null,
   "metadata": {},
   "outputs": [],
   "source": [
    "\" \".join([\"collect\", \"rock\", \"music\"])"
   ]
  },
  {
   "cell_type": "code",
   "execution_count": null,
   "metadata": {},
   "outputs": [],
   "source": [
    "es.search(index = 'new_idx', body = {\n",
    "    \"query\": {\n",
    "        \"bool\":{\n",
    "            \"must\":{\"match\": {\n",
    "            \"about\": \"like\"\n",
    "        }},\n",
    "        \"must_not\":{\n",
    "            \"match\" :{\n",
    "                \"about\": \"'collect', 'rock', 'music'\"}\n",
    "        }}\n",
    "    }\n",
    "})"
   ]
  },
  {
   "cell_type": "code",
   "execution_count": null,
   "metadata": {},
   "outputs": [],
   "source": [
    "es.search(index = 'new_idx', body = {\n",
    "    \"query\": {\n",
    "        \"bool\":{\n",
    "            \"must\":{\"match\": {\n",
    "            \"about\": \"like\"\n",
    "        }},\n",
    "        \"filter\":{\n",
    "            \"term\" :{\n",
    "                \"about\": \" \".join([\"dog\"])}\n",
    "        }}\n",
    "    }\n",
    "})"
   ]
  },
  {
   "cell_type": "code",
   "execution_count": null,
   "metadata": {},
   "outputs": [],
   "source": [
    "es.search(index = 'new_idx', body = {\n",
    "    \"query\": {\n",
    "        \"bool\":{\n",
    "            \"must\":{\"match\": {\n",
    "            \"about\": \"like\"\n",
    "        }},\n",
    "        \"filter\":{\n",
    "            \"term\" :{\n",
    "                \"about\": \" \".join([\"dog\", \"the\"])}\n",
    "        }}\n",
    "    }\n",
    "})"
   ]
  },
  {
   "cell_type": "code",
   "execution_count": null,
   "metadata": {},
   "outputs": [],
   "source": []
  },
  {
   "cell_type": "code",
   "execution_count": null,
   "metadata": {},
   "outputs": [],
   "source": []
  },
  {
   "cell_type": "code",
   "execution_count": null,
   "metadata": {},
   "outputs": [],
   "source": []
  },
  {
   "cell_type": "markdown",
   "metadata": {},
   "source": [
    "# delete index"
   ]
  },
  {
   "cell_type": "code",
   "execution_count": null,
   "metadata": {},
   "outputs": [],
   "source": [
    "es.indices.delete(index = 'new_idx')"
   ]
  },
  {
   "cell_type": "code",
   "execution_count": null,
   "metadata": {},
   "outputs": [],
   "source": []
  }
 ],
 "metadata": {
  "kernelspec": {
   "display_name": "Python 3",
   "language": "python",
   "name": "python3"
  },
  "language_info": {
   "codemirror_mode": {
    "name": "ipython",
    "version": 3
   },
   "file_extension": ".py",
   "mimetype": "text/x-python",
   "name": "python",
   "nbconvert_exporter": "python",
   "pygments_lexer": "ipython3",
   "version": "3.6.4"
  }
 },
 "nbformat": 4,
 "nbformat_minor": 2
}
