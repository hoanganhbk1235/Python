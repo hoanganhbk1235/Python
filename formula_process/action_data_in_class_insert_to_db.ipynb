{
 "cells": [
  {
   "cell_type": "code",
   "execution_count": 1,
   "metadata": {},
   "outputs": [],
   "source": [
    "import pandas as pd\n",
    "import re\n",
    "import json\n",
    "import numpy as np"
   ]
  },
  {
   "cell_type": "code",
   "execution_count": 5,
   "metadata": {},
   "outputs": [],
   "source": [
    "df_action_data = pd.read_csv('events.csv')"
   ]
  },
  {
   "cell_type": "code",
   "execution_count": 6,
   "metadata": {},
   "outputs": [
    {
     "data": {
      "text/plain": [
       "(241504, 9)"
      ]
     },
     "execution_count": 6,
     "metadata": {},
     "output_type": "execute_result"
    }
   ],
   "source": [
    "df_action_data.shape"
   ]
  },
  {
   "cell_type": "code",
   "execution_count": null,
   "metadata": {},
   "outputs": [],
   "source": [
    "df_action_data.columns = ['18337050-e84d-4b8d-963a-a6a7b4dfe33b', '2019-09-02 08:44:31.829+0000',\n",
    "       'TEACHER_NEXT_SLIDE', str(np.nan), '1', str(np.nan),\n",
    "       'fe654b47-4d2f-44e6-99c4-d2af6ae5e642', '0', str(np.nan)]"
   ]
  },
  {
   "cell_type": "code",
   "execution_count": null,
   "metadata": {},
   "outputs": [],
   "source": [
    "df_action_data = df_action_data.T.reset_index().T\n",
    "df_action_data = df_action_data.reset_index()\n",
    "df_action_data = df_action_data.drop('index', axis = 1)"
   ]
  },
  {
   "cell_type": "code",
   "execution_count": null,
   "metadata": {
    "scrolled": true
   },
   "outputs": [],
   "source": [
    "df_action_data.columns = ['roomid', 'time', 'commandtype', 'content', 'pageindex', 'points','sender', 'starnumber', 'touser']"
   ]
  },
  {
   "cell_type": "code",
   "execution_count": null,
   "metadata": {},
   "outputs": [],
   "source": [
    "df_action_data = df_action_data.reset_index()\n",
    "df_action_data = df_action_data.drop('index', axis= 1)"
   ]
  },
  {
   "cell_type": "code",
   "execution_count": null,
   "metadata": {},
   "outputs": [],
   "source": [
    "df_action_data.columns"
   ]
  },
  {
   "cell_type": "code",
   "execution_count": null,
   "metadata": {},
   "outputs": [],
   "source": [
    "def take_data(idx):\n",
    "    d = dict()\n",
    "    d['index'] = int(idx)\n",
    "    d['roomid'] = str(df_action_data.loc[idx, 'roomid'])\n",
    "    d['time'] = pd.to_datetime(df_action_data.loc[idx, 'time'])\n",
    "    d['commandtype'] = re.sub('NaN|None|' + str(np.nan), '', str(df_action_data.loc[idx, 'commandtype']))\n",
    "    d['content'] = re.sub('NaN|None|' + str(np.nan), '', str(df_action_data.loc[idx, 'content']))\n",
    "    d['pageindex'] = int(df_action_data.loc[idx, 'pageindex'])\n",
    "    d['points'] = re.sub('NaN|None|' + str(np.nan), '', str(df_action_data.loc[idx, 'points']))\n",
    "    d['sender'] = re.sub('NaN|None|' + str(np.nan), '', str(df_action_data.loc[idx, 'sender']))\n",
    "    d['starnumber'] = re.sub('NaN|None|' + str(np.nan), '', str(df_action_data.loc[idx, 'starnumber']))\n",
    "    d['touser'] = re.sub('NaN|None|' + str(np.nan), '', str(df_action_data.loc[idx, 'touser']))\n",
    "    d['_class'] = \"com.kidtopi.dataquality.domain.ActionInClass\"\n",
    "    return d"
   ]
  },
  {
   "cell_type": "code",
   "execution_count": null,
   "metadata": {
    "scrolled": true
   },
   "outputs": [],
   "source": [
    "ls_data = []\n",
    "for idx in range(df_action_data.shape[0]):\n",
    "    ls_data.append(take_data(idx))"
   ]
  },
  {
   "cell_type": "code",
   "execution_count": null,
   "metadata": {},
   "outputs": [],
   "source": [
    "ls_data"
   ]
  },
  {
   "cell_type": "code",
   "execution_count": null,
   "metadata": {},
   "outputs": [],
   "source": [
    "# insert the many data points into mongodb\n",
    "import pymongo  # pip install pymongo\n",
    "from bson import json_util \n",
    "from pymongo import MongoClient# Comes with pymongo"
   ]
  },
  {
   "cell_type": "code",
   "execution_count": null,
   "metadata": {},
   "outputs": [],
   "source": [
    "# connect to db of mongodb: db\n",
    "username = 'ha'\n",
    "password = 'ha123'\n",
    "databaseName = 'haha'\n",
    "# connect with authentication\n",
    "client = MongoClient(\"mongodb:localhost\")\n",
    "db = client[databaseName]\n",
    "db.authenticate(username, password)"
   ]
  },
  {
   "cell_type": "code",
   "execution_count": null,
   "metadata": {},
   "outputs": [],
   "source": [
    "db['action_in_class'].insert_many(ls_data)"
   ]
  },
  {
   "cell_type": "code",
   "execution_count": null,
   "metadata": {},
   "outputs": [],
   "source": []
  }
 ],
 "metadata": {
  "kernelspec": {
   "display_name": "Python 3",
   "language": "python",
   "name": "python3"
  },
  "language_info": {
   "codemirror_mode": {
    "name": "ipython",
    "version": 3
   },
   "file_extension": ".py",
   "mimetype": "text/x-python",
   "name": "python",
   "nbconvert_exporter": "python",
   "pygments_lexer": "ipython3",
   "version": "3.6.8"
  }
 },
 "nbformat": 4,
 "nbformat_minor": 2
}
